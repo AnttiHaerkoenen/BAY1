{
 "cells": [
  {
   "cell_type": "markdown",
   "metadata": {
    "collapsed": true,
    "pycharm": {
     "name": "#%% md\n"
    }
   },
   "source": [
    "# Exercises 4.\n",
    "\n",
    "*Antti Härkönen*\n",
    "\n",
    "## 1.\n"
   ]
  },
  {
   "cell_type": "markdown",
   "source": [
    "## 2.\n"
   ],
   "metadata": {
    "collapsed": false
   }
  },
  {
   "cell_type": "markdown",
   "source": [
    "## 3.\n"
   ],
   "metadata": {
    "collapsed": false
   }
  },
  {
   "cell_type": "markdown",
   "source": [
    "## 4.\n",
    "\n",
    "### Shengjia Zhao, Jiaming Song, Stefano Ermon 2018: InfoVAE: Balancing Learning and Inference in Variational Autoencoders\n",
    "\n",
    "The goal\n",
    "Inference\n",
    "The method worked\n"
   ],
   "metadata": {
    "collapsed": false,
    "pycharm": {
     "name": "#%% md\n"
    }
   }
  }
 ],
 "metadata": {
  "kernelspec": {
   "name": "pycharm-4448ffd9",
   "language": "python",
   "display_name": "PyCharm (BAY1)"
  },
  "language_info": {
   "codemirror_mode": {
    "name": "ipython",
    "version": 2
   },
   "file_extension": ".py",
   "mimetype": "text/x-python",
   "name": "python",
   "nbconvert_exporter": "python",
   "pygments_lexer": "ipython2",
   "version": "2.7.6"
  }
 },
 "nbformat": 4,
 "nbformat_minor": 0
}