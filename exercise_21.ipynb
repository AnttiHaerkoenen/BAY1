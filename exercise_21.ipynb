{
 "cells": [
  {
   "cell_type": "markdown",
   "metadata": {
    "collapsed": true,
    "pycharm": {
     "name": "#%% md\n"
    }
   },
   "source": [
    "# Exercises 1.\n",
    "\n",
    "## 1.\n",
    "\n",
    "The generative process:\n",
    "\n",
    "1. For each component k:\n",
    "    1. for each question j:\n",
    "        1. draw profile proportion $\\beta_{kj} \\sim Dir(\\eta)$\n",
    "2. For data point i:\n",
    "    1. draw proportion $\\theta_i \\sim Dir(\\alpha)$\n",
    "    2. for each variable j of data point i:\n",
    "        1. draw mixture assignment $ z_{ij} \\sim Cat(\\theta_i) $\n",
    "        2. draw value (answer) of variable $ x_{ij} \\sim Cat(\\beta_{z_{ij}}) $"
   ]
  },
  {
   "cell_type": "code",
   "execution_count": 4,
   "outputs": [
    {
     "data": {
      "text/plain": "<matplotlib.axes._axes.Axes at 0x14f7cbaa8e0>"
     },
     "execution_count": 4,
     "metadata": {},
     "output_type": "execute_result"
    },
    {
     "data": {
      "text/plain": "<Figure size 153.071x313.701 with 1 Axes>",
      "image/png": "[encoded data removed]"
     },
     "metadata": {},
     "output_type": "display_data"
    }
   ],
   "source": [
    "import daft\n",
    "from matplotlib import rc\n",
    "\n",
    "rc(\"font\", family=\"serif\", size=16)\n",
    "scale = 1.25\n",
    "pgm = daft.PGM()\n",
    "\n",
    "pgm.add_node('alpha', r'$\\alpha$', 1, 6, fixed=True, shape='rectangle')\n",
    "pgm.add_node('theta', r'$\\theta_i$', 1, 5)\n",
    "pgm.add_node('z', r'$z_{ij}$', 1, 4)\n",
    "pgm.add_node('x', r'$x_{ij}$', 1, 3, observed=True)\n",
    "pgm.add_node('beta', r'$\\beta_{kj}$', 1, 1.75)\n",
    "pgm.add_node('eta', r'$\\eta$', 1, 0.75, fixed=True, offset=(0, -20), shape='rectangle')\n",
    "\n",
    "pgm.add_edge('alpha', 'theta', directed=True)\n",
    "pgm.add_edge('theta', 'z', directed=True)\n",
    "pgm.add_edge('z', 'x', directed=True)\n",
    "pgm.add_edge('beta', 'x', directed=True)\n",
    "pgm.add_edge('eta', 'beta', directed=True)\n",
    "\n",
    "pgm.add_plate([0.25, 1.3, 1.7, 3.2], 'J')\n",
    "pgm.add_plate([-0.25, 2.4, 2.5, 3.25], 'I')\n",
    "pgm.add_plate([-0.25, 1.15, 2.5, 1.1], 'K')\n",
    "\n",
    "pgm.render()\n"
   ],
   "metadata": {
    "collapsed": false,
    "pycharm": {
     "name": "#%%\n"
    }
   }
  },
  {
   "cell_type": "markdown",
   "source": [
    "## 4.\n"
   ],
   "metadata": {
    "collapsed": false,
    "pycharm": {
     "name": "#%% md\n"
    }
   }
  }
 ],
 "metadata": {
  "kernelspec": {
   "name": "python3",
   "language": "python",
   "display_name": "Python 3"
  },
  "language_info": {
   "codemirror_mode": {
    "name": "ipython",
    "version": 2
   },
   "file_extension": ".py",
   "mimetype": "text/x-python",
   "name": "python",
   "nbconvert_exporter": "python",
   "pygments_lexer": "ipython2",
   "version": "2.7.6"
  }
 },
 "nbformat": 4,
 "nbformat_minor": 0
}