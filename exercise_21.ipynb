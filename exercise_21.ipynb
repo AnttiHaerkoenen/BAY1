{
 "cells": [
  {
   "cell_type": "markdown",
   "metadata": {
    "collapsed": true,
    "pycharm": {
     "name": "#%% md\n"
    }
   },
   "source": [
    "# Exercises 1.\n",
    "\n",
    "## 1.\n",
    "\n",
    "The generative process:\n",
    "\n",
    "1. For each component k:\n",
    "    1. for each question j:\n",
    "        1. draw profile proportion $\\beta_{kj} \\sim Dir(\\eta)$\n",
    "2. For data point i:\n",
    "    1. draw proportion $\\theta_i \\sim Dir(\\alpha)$\n",
    "    2. for each variable j of data point i:\n",
    "        1. draw mixture assignment $ z_{ij} \\sim Cat(\\theta_i) $\n",
    "        2. draw value (answer) of variable $ x_{ij} \\sim Cat(\\beta_{z_{ij}}) $"
   ]
  },
  {
   "cell_type": "code",
   "execution_count": 12,
   "outputs": [
    {
     "data": {
      "text/plain": "<matplotlib.axes._axes.Axes at 0x7f3dd3572e80>"
     },
     "execution_count": 12,
     "metadata": {},
     "output_type": "execute_result"
    },
    {
     "data": {
      "text/plain": "<Figure size 153.071x313.701 with 1 Axes>",
      "image/png": "[encoded data removed]"
     },
     "metadata": {},
     "output_type": "display_data"
    }
   ],
   "source": [
    "import daft\n",
    "from matplotlib import rc\n",
    "\n",
    "rc(\"font\", family=\"serif\", size=16)\n",
    "scale = 1.25\n",
    "pgm = daft.PGM()\n",
    "\n",
    "pgm.add_node('alpha', r'$\\alpha$', 1, 6, fixed=True, shape='rectangle')\n",
    "pgm.add_node('theta', r'$\\theta_i$', 1, 5)\n",
    "pgm.add_node('z', r'$z_{ij}$', 1, 4)\n",
    "pgm.add_node('x', r'$x_{ij}$', 1, 3, observed=True)\n",
    "pgm.add_node('beta', r'$\\beta_{kj}$', 1, 1.75)\n",
    "pgm.add_node('eta', r'$\\eta$', 1, 0.75, fixed=True, offset=(0, -20), shape='rectangle')\n",
    "\n",
    "pgm.add_edge('alpha', 'theta', directed=True)\n",
    "pgm.add_edge('theta', 'z', directed=True)\n",
    "pgm.add_edge('z', 'x', directed=True)\n",
    "pgm.add_edge('beta', 'x', directed=True)\n",
    "pgm.add_edge('eta', 'beta', directed=True)\n",
    "\n",
    "pgm.add_plate([0.25, 1.4, 1.5, 3], 'J')\n",
    "pgm.add_plate([-0.25, 2.4, 2.5, 3.25], 'I')\n",
    "pgm.add_plate([-0.25, 1.25, 2.5, 1], 'K')\n",
    "\n",
    "pgm.render()\n"
   ],
   "metadata": {
    "collapsed": false,
    "pycharm": {
     "name": "#%%\n"
    }
   }
  },
  {
   "cell_type": "code",
   "execution_count": 3,
   "outputs": [
    {
     "ename": "ModuleNotFoundError",
     "evalue": "No module named 'tensorflow'",
     "output_type": "error",
     "traceback": [
      "\u001B[0;31m---------------------------------------------------------------------------\u001B[0m",
      "\u001B[0;31mModuleNotFoundError\u001B[0m                       Traceback (most recent call last)",
      "\u001B[0;32m<ipython-input-3-8958833f19d2>\u001B[0m in \u001B[0;36m<module>\u001B[0;34m\u001B[0m\n\u001B[0;32m----> 1\u001B[0;31m \u001B[0;32mimport\u001B[0m \u001B[0mtensorflow\u001B[0m \u001B[0;32mas\u001B[0m \u001B[0mtf\u001B[0m\u001B[0;34m\u001B[0m\u001B[0;34m\u001B[0m\u001B[0m\n\u001B[0m\u001B[1;32m      2\u001B[0m \u001B[0;32mimport\u001B[0m \u001B[0mtensorflow_probability\u001B[0m\u001B[0;34m.\u001B[0m\u001B[0mdistributions\u001B[0m \u001B[0;32mas\u001B[0m \u001B[0mtfd\u001B[0m\u001B[0;34m\u001B[0m\u001B[0;34m\u001B[0m\u001B[0m\n\u001B[1;32m      3\u001B[0m \u001B[0;32mimport\u001B[0m \u001B[0mpandas\u001B[0m \u001B[0;32mas\u001B[0m \u001B[0mpd\u001B[0m\u001B[0;34m\u001B[0m\u001B[0;34m\u001B[0m\u001B[0m\n\u001B[1;32m      4\u001B[0m \u001B[0;34m\u001B[0m\u001B[0m\n\u001B[1;32m      5\u001B[0m \u001B[0mbank\u001B[0m \u001B[0;34m=\u001B[0m \u001B[0mpd\u001B[0m\u001B[0;34m.\u001B[0m\u001B[0mread_csv\u001B[0m\u001B[0;34m(\u001B[0m\u001B[0;34m'bank-full.csv'\u001B[0m\u001B[0;34m,\u001B[0m \u001B[0mdelimiter\u001B[0m\u001B[0;34m=\u001B[0m\u001B[0;34m';'\u001B[0m\u001B[0;34m)\u001B[0m\u001B[0;34m\u001B[0m\u001B[0;34m\u001B[0m\u001B[0m\n",
      "\u001B[0;31mModuleNotFoundError\u001B[0m: No module named 'tensorflow'"
     ]
    }
   ],
   "source": [
    "import tensorflow as tf\n",
    "import tensorflow_probability.distributions as tfd\n",
    "import pandas as pd\n",
    "\n",
    "bank = pd.read_csv('bank-full.csv', delimiter=';')\n",
    "bank = bank.loc[:, ['job', 'marital', 'education', 'default', 'housing', 'loan', 'contact', 'previous', 'poutcome']]\n",
    "alpha = 1\n",
    "eta = 1\n",
    "# beta = (eta)\n",
    "theta = tfd.Dirichlet(alpha)\n",
    "z = tfd.Categorical(theta)\n",
    "# x = (beta[z])"
   ],
   "metadata": {
    "collapsed": false,
    "pycharm": {
     "name": "#%%\n"
    }
   }
  }
 ],
 "metadata": {
  "kernelspec": {
   "display_name": "Python 3",
   "language": "python",
   "name": "python3"
  },
  "language_info": {
   "codemirror_mode": {
    "name": "ipython",
    "version": 2
   },
   "file_extension": ".py",
   "mimetype": "text/x-python",
   "name": "python",
   "nbconvert_exporter": "python",
   "pygments_lexer": "ipython2",
   "version": "2.7.6"
  }
 },
 "nbformat": 4,
 "nbformat_minor": 0
}