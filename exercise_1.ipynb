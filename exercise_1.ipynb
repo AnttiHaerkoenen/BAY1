{
 "cells": [
  {
   "cell_type": "code",
   "execution_count": 2,
   "metadata": {},
   "outputs": [],
   "source": [
    "import numpy as np\n",
    "import pandas as pd\n",
    "import matplotlib.pyplot as plt\n",
    "import tensorflow as tf\n",
    "import tensorflow_probability as tfp\n",
    "tfd = tfp.distributions"
   ]
  },
  {
   "cell_type": "markdown",
   "metadata": {
    "pycharm": {
     "name": "#%% md\n"
    }
   },
   "source": [
    "# Exercises 1\n",
    "\n",
    "## 1.\n",
    "\n",
    "Combinations of two dice that add to a given number:"
   ]
  },
  {
   "cell_type": "code",
   "execution_count": 2,
   "metadata": {
    "pycharm": {
     "is_executing": true,
     "name": "#%%\n"
    }
   },
   "outputs": [
    {
     "data": {
      "text/html": [
       "<div>\n",
       "<style scoped>\n",
       "    .dataframe tbody tr th:only-of-type {\n",
       "        vertical-align: middle;\n",
       "    }\n",
       "\n",
       "    .dataframe tbody tr th {\n",
       "        vertical-align: top;\n",
       "    }\n",
       "\n",
       "    .dataframe thead th {\n",
       "        text-align: right;\n",
       "    }\n",
       "</style>\n",
       "<table border=\"1\" class=\"dataframe\">\n",
       "  <thead>\n",
       "    <tr style=\"text-align: right;\">\n",
       "      <th></th>\n",
       "      <th>1</th>\n",
       "      <th>2</th>\n",
       "      <th>3</th>\n",
       "      <th>4</th>\n",
       "      <th>5</th>\n",
       "      <th>6</th>\n",
       "    </tr>\n",
       "  </thead>\n",
       "  <tbody>\n",
       "    <tr>\n",
       "      <th>1</th>\n",
       "      <td>2</td>\n",
       "      <td>3</td>\n",
       "      <td>4</td>\n",
       "      <td>5</td>\n",
       "      <td>6</td>\n",
       "      <td>7</td>\n",
       "    </tr>\n",
       "    <tr>\n",
       "      <th>2</th>\n",
       "      <td>3</td>\n",
       "      <td>4</td>\n",
       "      <td>5</td>\n",
       "      <td>6</td>\n",
       "      <td>7</td>\n",
       "      <td>8</td>\n",
       "    </tr>\n",
       "    <tr>\n",
       "      <th>3</th>\n",
       "      <td>4</td>\n",
       "      <td>5</td>\n",
       "      <td>6</td>\n",
       "      <td>7</td>\n",
       "      <td>8</td>\n",
       "      <td>9</td>\n",
       "    </tr>\n",
       "    <tr>\n",
       "      <th>4</th>\n",
       "      <td>5</td>\n",
       "      <td>6</td>\n",
       "      <td>7</td>\n",
       "      <td>8</td>\n",
       "      <td>9</td>\n",
       "      <td>10</td>\n",
       "    </tr>\n",
       "    <tr>\n",
       "      <th>5</th>\n",
       "      <td>6</td>\n",
       "      <td>7</td>\n",
       "      <td>8</td>\n",
       "      <td>9</td>\n",
       "      <td>10</td>\n",
       "      <td>11</td>\n",
       "    </tr>\n",
       "    <tr>\n",
       "      <th>6</th>\n",
       "      <td>7</td>\n",
       "      <td>8</td>\n",
       "      <td>9</td>\n",
       "      <td>10</td>\n",
       "      <td>11</td>\n",
       "      <td>12</td>\n",
       "    </tr>\n",
       "  </tbody>\n",
       "</table>\n",
       "</div>"
      ],
      "text/plain": [
       "   1  2  3   4   5   6\n",
       "1  2  3  4   5   6   7\n",
       "2  3  4  5   6   7   8\n",
       "3  4  5  6   7   8   9\n",
       "4  5  6  7   8   9  10\n",
       "5  6  7  8   9  10  11\n",
       "6  7  8  9  10  11  12"
      ]
     },
     "execution_count": 2,
     "metadata": {},
     "output_type": "execute_result"
    }
   ],
   "source": [
    "die = np.arange(1, 7)\n",
    "dice = np.tile(die, (6, 1))\n",
    "dice = pd.DataFrame(dice + dice.transpose(), columns=die, index=die)\n",
    "dice"
   ]
  },
  {
   "cell_type": "code",
   "execution_count": 3,
   "metadata": {
    "pycharm": {
     "is_executing": true,
     "name": "#%%\n"
    }
   },
   "outputs": [
    {
     "data": {
      "text/plain": [
       "3"
      ]
     },
     "execution_count": 3,
     "metadata": {},
     "output_type": "execute_result"
    }
   ],
   "source": [
    "n_10 = (dice == 10).values.sum()\n",
    "n_10"
   ]
  },
  {
   "cell_type": "code",
   "execution_count": 4,
   "metadata": {
    "pycharm": {
     "is_executing": true,
     "name": "#%%\n"
    }
   },
   "outputs": [
    {
     "data": {
      "text/plain": [
       "2"
      ]
     },
     "execution_count": 4,
     "metadata": {},
     "output_type": "execute_result"
    }
   ],
   "source": [
    "n_11 = (dice == 11).values.sum()\n",
    "n_11"
   ]
  },
  {
   "cell_type": "markdown",
   "metadata": {},
   "source": [
    "### a)\n",
    "\n",
    "Prior probability of craps and roulette:"
   ]
  },
  {
   "cell_type": "code",
   "execution_count": 5,
   "metadata": {
    "pycharm": {
     "is_executing": true,
     "name": "#%%\n"
    }
   },
   "outputs": [
    {
     "data": {
      "text/plain": [
       "array([0.33333333, 0.66666667])"
      ]
     },
     "execution_count": 5,
     "metadata": {},
     "output_type": "execute_result"
    }
   ],
   "source": [
    "prior = np.array([1, 2])\n",
    "prior = prior / prior.sum()\n",
    "prior"
   ]
  },
  {
   "cell_type": "markdown",
   "metadata": {},
   "source": [
    "Likelihood for craps and roulette:"
   ]
  },
  {
   "cell_type": "code",
   "execution_count": 6,
   "metadata": {
    "pycharm": {
     "is_executing": true,
     "name": "#%%\n"
    }
   },
   "outputs": [
    {
     "data": {
      "text/plain": [
       "array([0.05555556, 0.02631579])"
      ]
     },
     "execution_count": 6,
     "metadata": {},
     "output_type": "execute_result"
    }
   ],
   "source": [
    "likelihood = np.array([n_11/36, 1/38])\n",
    "likelihood"
   ]
  },
  {
   "cell_type": "markdown",
   "metadata": {},
   "source": [
    "Posterior probability for craps and roulette:"
   ]
  },
  {
   "cell_type": "code",
   "execution_count": 7,
   "metadata": {
    "pycharm": {
     "is_executing": true,
     "name": "#%%\n"
    }
   },
   "outputs": [
    {
     "data": {
      "text/plain": [
       "array([0.51351351, 0.48648649])"
      ]
     },
     "execution_count": 7,
     "metadata": {},
     "output_type": "execute_result"
    }
   ],
   "source": [
    "posterior = prior * likelihood\n",
    "posterior = posterior / posterior.sum()\n",
    "posterior"
   ]
  },
  {
   "cell_type": "code",
   "execution_count": 8,
   "metadata": {
    "pycharm": {
     "is_executing": true,
     "name": "#%%\n"
    }
   },
   "outputs": [
    {
     "data": {
      "text/plain": [
       "0.51"
      ]
     },
     "execution_count": 8,
     "metadata": {},
     "output_type": "execute_result"
    }
   ],
   "source": [
    "posterior[0].round(2)"
   ]
  },
  {
   "cell_type": "markdown",
   "metadata": {
    "pycharm": {
     "name": "#%% md\n"
    }
   },
   "source": [
    "### b)\n",
    "\n",
    "Prior probability of craps and roulette:"
   ]
  },
  {
   "cell_type": "code",
   "execution_count": 9,
   "metadata": {
    "pycharm": {
     "is_executing": true,
     "name": "#%%\n"
    }
   },
   "outputs": [
    {
     "data": {
      "text/plain": [
       "array([0.66666667, 0.33333333])"
      ]
     },
     "execution_count": 9,
     "metadata": {},
     "output_type": "execute_result"
    }
   ],
   "source": [
    "prior = np.array([2, 1])\n",
    "prior = prior / prior.sum()\n",
    "prior"
   ]
  },
  {
   "cell_type": "markdown",
   "metadata": {
    "pycharm": {
     "name": "#%% md\n"
    }
   },
   "source": [
    "Likelihood for craps and roulette:"
   ]
  },
  {
   "cell_type": "code",
   "execution_count": 10,
   "metadata": {
    "pycharm": {
     "is_executing": true,
     "name": "#%%\n"
    }
   },
   "outputs": [
    {
     "data": {
      "text/plain": [
       "array([0.08333333, 0.02631579])"
      ]
     },
     "execution_count": 10,
     "metadata": {},
     "output_type": "execute_result"
    }
   ],
   "source": [
    "likelihood = np.array([n_10/36, 1/38])\n",
    "likelihood"
   ]
  },
  {
   "cell_type": "markdown",
   "metadata": {
    "pycharm": {
     "name": "#%% md\n"
    }
   },
   "source": [
    "Posterior probability for craps and roulette:"
   ]
  },
  {
   "cell_type": "code",
   "execution_count": 11,
   "metadata": {
    "pycharm": {
     "is_executing": true,
     "name": "#%%\n"
    }
   },
   "outputs": [
    {
     "data": {
      "text/plain": [
       "array([0.86363636, 0.13636364])"
      ]
     },
     "execution_count": 11,
     "metadata": {},
     "output_type": "execute_result"
    }
   ],
   "source": [
    "posterior = prior * likelihood\n",
    "posterior = posterior / posterior.sum()\n",
    "posterior"
   ]
  },
  {
   "cell_type": "code",
   "execution_count": 12,
   "metadata": {
    "pycharm": {
     "is_executing": true,
     "name": "#%%\n"
    }
   },
   "outputs": [
    {
     "data": {
      "text/plain": [
       "0.14"
      ]
     },
     "execution_count": 12,
     "metadata": {},
     "output_type": "execute_result"
    }
   ],
   "source": [
    "posterior[1].round(2)"
   ]
  },
  {
   "cell_type": "markdown",
   "metadata": {},
   "source": [
    "## 2.\n",
    "\n",
    "Assuming you pick door 1 and the host opens door 3, the prior probabilities are following:"
   ]
  },
  {
   "cell_type": "code",
   "execution_count": 13,
   "metadata": {
    "pycharm": {
     "is_executing": true,
     "name": "#%%\n"
    }
   },
   "outputs": [
    {
     "data": {
      "text/plain": [
       "array([0.33333333, 0.33333333, 0.33333333])"
      ]
     },
     "execution_count": 13,
     "metadata": {},
     "output_type": "execute_result"
    }
   ],
   "source": [
    "prior = np.ones(3) / 3\n",
    "prior"
   ]
  },
  {
   "cell_type": "markdown",
   "metadata": {
    "pycharm": {
     "name": "#%% md\n"
    }
   },
   "source": [
    "Likelihood counts the ways the car can have ended up behind doors 1 and 2 given that door 3 has a goat."
   ]
  },
  {
   "cell_type": "code",
   "execution_count": 14,
   "metadata": {
    "pycharm": {
     "is_executing": true,
     "name": "#%%\n"
    }
   },
   "outputs": [],
   "source": [
    "likelihood = np.array([1, 2, 0])"
   ]
  },
  {
   "cell_type": "markdown",
   "metadata": {
    "pycharm": {
     "name": "#%% md\n"
    }
   },
   "source": [
    "Probabilities for each door are:"
   ]
  },
  {
   "cell_type": "code",
   "execution_count": 15,
   "metadata": {
    "pycharm": {
     "is_executing": true,
     "name": "#%%\n"
    }
   },
   "outputs": [
    {
     "data": {
      "text/plain": [
       "array([0.33, 0.67, 0.  ])"
      ]
     },
     "execution_count": 15,
     "metadata": {},
     "output_type": "execute_result"
    }
   ],
   "source": [
    "posterior = prior * likelihood\n",
    "posterior = posterior / posterior.sum()\n",
    "posterior.round(2)"
   ]
  },
  {
   "cell_type": "markdown",
   "metadata": {
    "pycharm": {
     "name": "#%% md\n"
    }
   },
   "source": [
    "Door 2 has higher posterior probability, so the contestant should always switch. This can be explained by the fact that the\n",
    "host always gives the contestant new and reliable information on the game setup. The contestant should update their beliefs\n",
    "because they always have more information when choosing between the doors after the goat reveal than before it."
   ]
  },
  {
   "cell_type": "markdown",
   "metadata": {},
   "source": [
    "## 3."
   ]
  },
  {
   "cell_type": "code",
   "execution_count": 16,
   "metadata": {
    "pycharm": {
     "is_executing": true,
     "name": "#%%\n"
    }
   },
   "outputs": [
    {
     "data": {
      "text/html": [
       "<div>\n",
       "<style scoped>\n",
       "    .dataframe tbody tr th:only-of-type {\n",
       "        vertical-align: middle;\n",
       "    }\n",
       "\n",
       "    .dataframe tbody tr th {\n",
       "        vertical-align: top;\n",
       "    }\n",
       "\n",
       "    .dataframe thead th {\n",
       "        text-align: right;\n",
       "    }\n",
       "</style>\n",
       "<table border=\"1\" class=\"dataframe\">\n",
       "  <thead>\n",
       "    <tr style=\"text-align: right;\">\n",
       "      <th></th>\n",
       "      <th>apples</th>\n",
       "      <th>oranges</th>\n",
       "      <th>limes</th>\n",
       "    </tr>\n",
       "  </thead>\n",
       "  <tbody>\n",
       "    <tr>\n",
       "      <th>r</th>\n",
       "      <td>0.3</td>\n",
       "      <td>0.4</td>\n",
       "      <td>0.3</td>\n",
       "    </tr>\n",
       "    <tr>\n",
       "      <th>b</th>\n",
       "      <td>0.5</td>\n",
       "      <td>0.5</td>\n",
       "      <td>0.0</td>\n",
       "    </tr>\n",
       "    <tr>\n",
       "      <th>g</th>\n",
       "      <td>0.3</td>\n",
       "      <td>0.3</td>\n",
       "      <td>0.4</td>\n",
       "    </tr>\n",
       "  </tbody>\n",
       "</table>\n",
       "</div>"
      ],
      "text/plain": [
       "   apples  oranges  limes\n",
       "r     0.3      0.4    0.3\n",
       "b     0.5      0.5    0.0\n",
       "g     0.3      0.3    0.4"
      ]
     },
     "execution_count": 16,
     "metadata": {},
     "output_type": "execute_result"
    }
   ],
   "source": [
    "fruits = pd.DataFrame(\n",
    "    [[3, 4, 3],\n",
    "    [1, 1, 0],\n",
    "    [3, 3, 4]],\n",
    "    columns=['apples', 'oranges', 'limes'],\n",
    "    index=['r', 'b', 'g'],\n",
    ")\n",
    "p_box = pd.Series(dict(r=0.2, b=0.2, g=0.6))\n",
    "fruits_p = fruits / fruits.values.sum(axis=1, keepdims=True)\n",
    "fruits_p"
   ]
  },
  {
   "cell_type": "markdown",
   "metadata": {
    "pycharm": {
     "name": "#%% md\n"
    }
   },
   "source": [
    "### a)"
   ]
  },
  {
   "cell_type": "code",
   "execution_count": 17,
   "metadata": {
    "pycharm": {
     "is_executing": true,
     "name": "#%%\n"
    }
   },
   "outputs": [
    {
     "data": {
      "text/plain": [
       "0.34"
      ]
     },
     "execution_count": 17,
     "metadata": {},
     "output_type": "execute_result"
    }
   ],
   "source": [
    "combined_p = fruits_p * np.tile(p_box.values[..., np.newaxis], (1, 3))\n",
    "combined_p.apples.sum().round(2)"
   ]
  },
  {
   "cell_type": "markdown",
   "metadata": {
    "pycharm": {
     "name": "#%% md\n"
    }
   },
   "source": [
    "Probability of an apple is 1/3.\n",
    "\n",
    "### b)"
   ]
  },
  {
   "cell_type": "code",
   "execution_count": 18,
   "metadata": {
    "pycharm": {
     "is_executing": true,
     "name": "#%%\n"
    }
   },
   "outputs": [
    {
     "data": {
      "text/plain": [
       "0.28"
      ]
     },
     "execution_count": 18,
     "metadata": {},
     "output_type": "execute_result"
    }
   ],
   "source": [
    "prior = p_box.values\n",
    "likelihood = fruits_p.oranges.values\n",
    "posterior = prior * likelihood\n",
    "posterior = posterior / posterior.sum()\n",
    "posterior[1].round(2)"
   ]
  },
  {
   "cell_type": "markdown",
   "metadata": {},
   "source": [
    "P(g|apple) = 0.28\n",
    "\n",
    "## 4."
   ]
  },
  {
   "cell_type": "code",
   "execution_count": 4,
   "metadata": {
    "pycharm": {
     "name": "#%%\n"
    }
   },
   "outputs": [
    {
     "name": "stdout",
     "output_type": "stream",
     "text": [
      "Log prob: [-179.33773503 -175.17914447 -178.71514239 -180.47392166 -177.60170883\n",
      " -178.94702753 -178.13385964 -178.12613356 -176.90584718 -177.07558437]\n",
      "Log prob: [-360.0317733  -361.15279948 -357.14410364 -355.92210146 -357.53134832\n",
      " -358.14902829 -354.1730661  -355.91871837 -357.65863967 -359.49543198\n",
      " -357.40959891 -358.39749709 -357.42013514 -357.58450155 -358.39248462\n",
      " -362.03727297 -356.08126286 -365.4486764  -356.19011941 -357.47242625]\n",
      "Log prob: [-1785.23997897 -1808.46763129 -1786.12302975 -1814.08248268\n",
      " -1767.71180307 -1772.92407534 -1788.28308103 -1794.8896027\n",
      " -1790.74230778 -1801.96656135 -1810.85353752 -1818.08300286\n",
      " -1797.77393779 -1799.17933318 -1816.56062489 -1826.82747066\n",
      " -1831.20106218 -1776.8403598  -1796.1233995  -1799.97875239\n",
      " -1783.27444429 -1813.60771771 -1815.91008139 -1782.44342771\n",
      " -1802.34161937 -1806.42663213 -1797.47356668 -1805.83871012\n",
      " -1792.98799942 -1797.39143866 -1795.41976955 -1815.30481611\n",
      " -1824.47866576 -1777.17593109 -1793.35687189 -1784.70850682\n",
      " -1767.16883548 -1808.58994646 -1784.82285864 -1809.1589846\n",
      " -1777.25376527 -1801.2672683  -1789.3543867  -1790.78414085\n",
      " -1804.48015263 -1788.73463398 -1787.34503437 -1791.46753185\n",
      " -1818.12856448 -1785.35064098 -1789.39907202 -1781.04635979\n",
      " -1788.03085456 -1817.8459205  -1776.91623129 -1797.54979325\n",
      " -1787.47079468 -1789.00023091 -1781.19291492 -1776.60138839\n",
      " -1814.29941815 -1766.83711737 -1801.2052729  -1814.04032985\n",
      " -1820.48896297 -1800.41974892 -1818.95668374 -1819.34963995\n",
      " -1807.53230756 -1801.92853123 -1775.14038817 -1783.18255004\n",
      " -1780.60989621 -1800.45106603 -1816.04175858 -1770.38134496\n",
      " -1786.21943328 -1801.92476253 -1804.07830673 -1807.20698907\n",
      " -1790.94041701 -1775.5246637  -1803.57222343 -1798.56142944\n",
      " -1793.38249508 -1809.97684359 -1785.73612676 -1791.18157393\n",
      " -1799.61993379 -1808.73353994 -1813.57396084 -1802.15961522\n",
      " -1799.99662907 -1790.40511507 -1791.03183489 -1789.13426696\n",
      " -1831.79750229 -1793.93733905 -1807.38406796 -1800.40809836]\n",
      "Log prob: [1.61863031 1.61862808 1.61856719 1.61850268 1.61863564 1.61852274\n",
      " 1.61863279 1.61859165 1.61864357 1.6186348 ]\n",
      "Log prob: [1.96498043 1.96496275 1.96519228 1.96496261 1.96521964 1.96522196\n",
      " 1.96521375 1.96508907 1.96518242 1.96521407 1.96500203 1.96514817\n",
      " 1.96493917 1.96519072 1.96491378 1.96514633 1.96521961 1.96513972\n",
      " 1.96508867 1.96499047]\n",
      "Log prob: [2.76971077 2.76973471 2.76983095 2.76916601 2.76991807 2.76989632\n",
      " 2.76993947 2.76990529 2.76956733 2.76975017 2.76985982 2.76959853\n",
      " 2.76972003 2.76992695 2.76937863 2.76970275 2.7698735  2.76870415\n",
      " 2.76963128 2.76992116 2.76975952 2.76947936 2.76990156 2.76973969\n",
      " 2.76975494 2.76628309 2.76989879 2.76961382 2.76710522 2.76975994\n",
      " 2.7698808  2.76854376 2.76992894 2.76981199 2.76984858 2.76991413\n",
      " 2.76961413 2.76808893 2.76968756 2.76993847 2.76992769 2.76973738\n",
      " 2.76984772 2.76983273 2.76961095 2.76946923 2.76874431 2.76993104\n",
      " 2.76904854 2.76927079 2.76988373 2.76971076 2.76993993 2.76902312\n",
      " 2.76993808 2.76992992 2.76933091 2.76960804 2.76978391 2.76931561\n",
      " 2.76993319 2.76992894 2.76938775 2.76774691 2.76961442 2.76961256\n",
      " 2.76980013 2.76981254 2.76993859 2.76917111 2.76890444 2.7697887\n",
      " 2.76955568 2.76978204 2.76994085 2.76985014 2.76948023 2.76846154\n",
      " 2.76964404 2.76902322 2.76991829 2.76812355 2.76971155 2.76908667\n",
      " 2.76987498 2.76929093 2.76904454 2.7696444  2.76993358 2.76990269\n",
      " 2.76990002 2.76896568 2.76800924 2.76987789 2.76956984 2.76909808\n",
      " 2.76989954 2.76969309 2.7684168  2.76980518]\n",
      "Log prob: [1.61861138 1.61831217 1.61831545 1.61844613 1.61858642 1.61806085\n",
      " 1.61808233 1.61844613 1.61863857 1.61747486]\n",
      "Log prob: [1.96496795 1.96502483 1.96482254 1.96458835 1.96521422 1.96387636\n",
      " 1.96512955 1.96450286 1.96519374 1.96483259 1.96514798 1.96477038\n",
      " 1.96432326 1.96512462 1.96515846 1.96473755 1.96485715 1.96522036\n",
      " 1.96518196 1.9652219 ]\n",
      "Log prob: [2.76899044 2.76610404 2.76339724 2.7619018  2.76888292 2.766961\n",
      " 2.76720292 2.7639786  2.76773644 2.769915   2.75337892 2.7699406\n",
      " 2.767683   2.766961   2.7699022  2.768547   2.75928292 2.767291\n",
      " 2.76436524 2.7677098  2.75150892 2.7680682  2.7696334  2.76321292\n",
      " 2.76992524 2.76929292 2.76620844 2.76348844 2.769403   2.76846124\n",
      " 2.76964324 2.76835044 2.74056204 2.7694542  2.76989092 2.76325924\n",
      " 2.76974092 2.76620844 2.769859   2.76302604 2.7696334  2.76984844\n",
      " 2.7672618  2.7674062  2.766139   2.7684174  2.76811684 2.75582892\n",
      " 2.7689374  2.7543118  2.7699294  2.76490084 2.76533292 2.76823564\n",
      " 2.76899044 2.76983724 2.75589604 2.761851   2.76923404 2.7648202\n",
      " 2.76344292 2.7610698  2.76606892 2.7684174  2.7628366  2.76977892\n",
      " 2.7621534  2.7687502  2.7686302  2.76720292 2.7691086  2.76969892\n",
      " 2.7697162  2.76936292 2.7691726  2.7685258  2.7594574  2.76992044\n",
      " 2.76965292 2.765635   2.75521764 2.76180004 2.769793   2.7680926\n",
      " 2.76101644 2.76249892 2.764195   2.769915   2.76823564 2.76947884\n",
      " 2.76816484 2.7613342  2.7633054  2.7696718  2.76990892 2.76993292\n",
      " 2.7623518  2.765217   2.76570892 2.76961324]\n",
      "Log prob: [1.61863127 1.61864732 1.61846077 1.61852743 1.61844363 1.61855001\n",
      " 1.61862897 1.61864222 1.61863351 1.6185947 ]\n",
      "Log prob: [1.96514816 1.96519925 1.96469677 1.96489663 1.96500795 1.96514762\n",
      " 1.9652103  1.96521843 1.96503492 1.96521085 1.96507334 1.96522191\n",
      " 1.96521193 1.96507669 1.96505667 1.9652071  1.96517132 1.96520763\n",
      " 1.96516721 1.96519735]\n",
      "Log prob: [2.76667787 2.76992925 2.76989254 2.76863045 2.76993494 2.76908181\n",
      " 2.76964122 2.76993236 2.76994004 2.7699373  2.76977808 2.76939615\n",
      " 2.76709214 2.76853184 2.76970525 2.76993578 2.76947855 2.7686408\n",
      " 2.76990538 2.76876206 2.76960476 2.7693667  2.76993146 2.76964644\n",
      " 2.76973158 2.76935614 2.769781   2.76983215 2.76989337 2.76994089\n",
      " 2.7697112  2.76918085 2.76992525 2.76988961 2.76975019 2.76953883\n",
      " 2.76993558 2.76985102 2.76949301 2.76835664 2.76813273 2.76987469\n",
      " 2.76918755 2.76972548 2.76823365 2.76924093 2.7697775  2.76994021\n",
      " 2.76940541 2.76934383 2.76994081 2.7698797  2.76992948 2.76990724\n",
      " 2.76975875 2.76966594 2.76957015 2.76960984 2.76961627 2.76821788\n",
      " 2.76941668 2.7695869  2.76898511 2.76982277 2.7687163  2.76993143\n",
      " 2.7694474  2.7694852  2.76752226 2.76989535 2.76964285 2.7695452\n",
      " 2.76993898 2.76915606 2.76785814 2.76901538 2.76963494 2.76952879\n",
      " 2.7695197  2.76992439 2.76992782 2.76984381 2.76926092 2.76992852\n",
      " 2.76984409 2.76918966 2.76993471 2.76876757 2.76945133 2.76978561\n",
      " 2.76878494 2.76868075 2.76967618 2.76878374 2.76896489 2.76956579\n",
      " 2.76936752 2.76955453 2.7690342  2.76989536]\n",
      "Log prob: [1.61858066 1.61861353 1.61782405 1.61863857 1.61847314 1.61857617\n",
      " 1.61862994 1.6184755  1.61859717 1.61864798]\n",
      "Log prob: [1.96508358 1.96521678 1.96488091 1.96403822 1.96518662 1.96474862\n",
      " 1.96510636 1.96498382 1.96516436 1.96513902 1.96475411 1.96520236\n",
      " 1.96517702 1.96521275 1.96522156 1.96508059 1.96521556 1.96515643\n",
      " 1.96518035 1.96482758]\n",
      "Log prob: [2.76942892 2.7668046  2.7699022  2.7682122  2.76751884 2.76410892\n",
      " 2.768547   2.769681   2.76914092 2.76723244 2.7694542  2.7684174\n",
      " 2.7693354  2.76789292 2.75934124 2.76989484 2.76886444 2.76047404\n",
      " 2.76637924 2.76944164 2.7699358  2.76606892 2.7675742  2.7690078\n",
      " 2.7698314  2.76592684 2.7644494  2.76860964 2.76959244 2.7691726\n",
      " 2.769249   2.766961   2.7686506  2.76912484 2.75783524 2.76533292\n",
      " 2.76966244 2.76880804 2.76674092 2.7699274  2.76914092 2.76835044\n",
      " 2.7697642  2.76977164 2.769249   2.7562954  2.76993892 2.76920364\n",
      " 2.76923404 2.76890124 2.76670884 2.76984844 2.763579   2.7696334\n",
      " 2.76927844 2.7698826  2.76981924 2.76934924 2.7687502  2.7699274\n",
      " 2.76811684 2.76734892 2.76954892 2.769915   2.76705292 2.76990892\n",
      " 2.7678154  2.7698254  2.76737764 2.7677098  2.76915684 2.76850444\n",
      " 2.76674092 2.76432292 2.76944164 2.762401   2.76689892 2.76720292\n",
      " 2.769915   2.76981924 2.76101644 2.7648202  2.76871084 2.76992044\n",
      " 2.76988684 2.76811684 2.7659982  2.7697642  2.763579   2.76674092\n",
      " 2.76936292 2.7679438  2.76969004 2.76705292 2.75951524 2.76990564\n",
      " 2.767683   2.75409892 2.76921892 2.76717324]\n"
     ]
    },
    {
     "data": {
      "text/plain": "<Figure size 432x288 with 1 Axes>",
      "image/png": "[encoded data removed]"
     },
     "metadata": {
      "needs_background": "light"
     },
     "output_type": "display_data"
    },
    {
     "data": {
      "text/plain": "<Figure size 432x288 with 1 Axes>",
      "image/png": "[encoded data removed]"
     },
     "metadata": {
      "needs_background": "light"
     },
     "output_type": "display_data"
    },
    {
     "data": {
      "text/plain": "<Figure size 432x288 with 1 Axes>",
      "image/png": "[encoded data removed]"
     },
     "metadata": {
      "needs_background": "light"
     },
     "output_type": "display_data"
    },
    {
     "data": {
      "text/plain": "<Figure size 432x288 with 1 Axes>",
      "image/png": "[encoded data removed]"
     },
     "metadata": {
      "needs_background": "light"
     },
     "output_type": "display_data"
    },
    {
     "data": {
      "text/plain": "<Figure size 432x288 with 1 Axes>",
      "image/png": "[encoded data removed]"
     },
     "metadata": {
      "needs_background": "light"
     },
     "output_type": "display_data"
    },
    {
     "data": {
      "text/plain": "<Figure size 432x288 with 1 Axes>",
      "image/png": "[encoded data removed]"
     },
     "metadata": {
      "needs_background": "light"
     },
     "output_type": "display_data"
    },
    {
     "data": {
      "text/plain": "<Figure size 432x288 with 1 Axes>",
      "image/png": "[encoded data removed]"
     },
     "metadata": {
      "needs_background": "light"
     },
     "output_type": "display_data"
    },
    {
     "data": {
      "text/plain": "<Figure size 432x288 with 1 Axes>",
      "image/png": "[encoded data removed]"
     },
     "metadata": {
      "needs_background": "light"
     },
     "output_type": "display_data"
    },
    {
     "data": {
      "text/plain": "<Figure size 432x288 with 1 Axes>",
      "image/png": "[encoded data removed]"
     },
     "metadata": {
      "needs_background": "light"
     },
     "output_type": "display_data"
    },
    {
     "data": {
      "text/plain": "<Figure size 432x288 with 1 Axes>",
      "image/png": "[encoded data removed]"
     },
     "metadata": {
      "needs_background": "light"
     },
     "output_type": "display_data"
    },
    {
     "data": {
      "text/plain": "<Figure size 432x288 with 1 Axes>",
      "image/png": "[encoded data removed]"
     },
     "metadata": {
      "needs_background": "light"
     },
     "output_type": "display_data"
    },
    {
     "data": {
      "text/plain": "<Figure size 432x288 with 1 Axes>",
      "image/png": "[encoded data removed]"
     },
     "metadata": {
      "needs_background": "light"
     },
     "output_type": "display_data"
    },
    {
     "data": {
      "text/plain": "<Figure size 432x288 with 1 Axes>",
      "image/png": "[encoded data removed]"
     },
     "metadata": {
      "needs_background": "light"
     },
     "output_type": "display_data"
    },
    {
     "data": {
      "text/plain": "<Figure size 432x288 with 1 Axes>",
      "image/png": "[encoded data removed]"
     },
     "metadata": {
      "needs_background": "light"
     },
     "output_type": "display_data"
    },
    {
     "data": {
      "text/plain": "<Figure size 432x288 with 1 Axes>",
      "image/png": "[encoded data removed]"
     },
     "metadata": {
      "needs_background": "light"
     },
     "output_type": "display_data"
    }
   ],
   "source": [
    "mu = 0.5\n",
    "sigma = 0.25\n",
    "\n",
    "distributions = {\n",
    "    'exponential': tfd.Exponential(np.repeat(mu, repeats=100_000)),\n",
    "    'normal': tfd.Normal(np.repeat(mu, repeats=100_000), scale=np.repeat(sigma, repeats=100_000)),\n",
    "    'poisson': tfd.Poisson(np.repeat(mu, repeats=100_000)),\n",
    "    'uniform': tfd.Uniform(np.repeat(0., repeats=100_000), np.repeat(1., repeats=100_000)),\n",
    "    'bernoulli': tfd.Bernoulli(probs=np.repeat(mu, repeats=100_000)),\n",
    "}\n",
    "\n",
    "for name, dist in distributions.items():\n",
    "    for n in 10, 20, 100:\n",
    "        sample = dist.sample(n).numpy()\n",
    "        means = pd.Series(sample.mean(axis=1))\n",
    "\n",
    "        log_prob = tfd.Normal(mu, np.sqrt(sigma**2 / n)).log_prob(means).numpy()\n",
    "        print(f\"Log prob: {log_prob}\")\n",
    "\n",
    "        fig = means.hist()\n",
    "        fig.set_title(f'{name.capitalize()} distribution, means from {n} samples')\n",
    "        plt.show()"
   ]
  },
  {
   "cell_type": "markdown",
   "metadata": {
    "pycharm": {
     "name": "#%% md\n"
    }
   },
   "source": [
    "## 5.\n",
    "\n",
    "My research problem would be this: Is there association between the spatial segregation of populations and wealth?\n",
    "I would like inspect the connection between ethnicity and wealth by taking into account spatial clusters of ethnic\n",
    " groups and high income.\n",
    "\n",
    "The generative process might work like this:\n",
    "* certain ethnic groups are more likely to be wealthy\n",
    "* wealthy people tend to live in better parts of the town\n",
    "* therefore, income segregation causes spatial segregation\n",
    "* however, there are other processes that may cause the spatial segregation of ethnic groups\n",
    "\n",
    "My ultimate aim is to test empirically whether income differences explain all of the ethnic segregation.\n",
    "\n",
    "Latent variables that might be needed for modelling:\n",
    "* the other, hidden variables that affect segregation"
   ]
  }
 ],
 "metadata": {
  "kernelspec": {
   "display_name": "Python 3",
   "language": "python",
   "name": "python3"
  },
  "language_info": {
   "codemirror_mode": {
    "name": "ipython",
    "version": 3
   },
   "file_extension": ".py",
   "mimetype": "text/x-python",
   "name": "python",
   "nbconvert_exporter": "python",
   "pygments_lexer": "ipython3",
   "version": "3.7.0"
  }
 },
 "nbformat": 4,
 "nbformat_minor": 1
}