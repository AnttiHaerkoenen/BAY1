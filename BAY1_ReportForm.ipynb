{
 "cells": [
  {
   "cell_type": "markdown",
   "source": [
    "# Bayesian Inference 1: Project Report\n",
    "\n",
    "### Title: \"The project title\"\n",
    "\n",
    "### Name: \"The Author name\"\n"
   ],
   "metadata": {
    "collapsed": false
   }
  },
  {
   "cell_type": "markdown",
   "metadata": {
    "id": "FOWuvoRrkHNb"
   },
   "source": [
    "## Abstract\n",
    "\n",
    "> _Writing a short summary of your methods and the significant of your results, a succinct abstract is an art_"
   ]
  },
  {
   "cell_type": "markdown",
   "metadata": {
    "id": "1xVTgad0mdpj"
   },
   "source": [
    "## Introduction\n",
    "\n",
    "Introduce your dataset, then the related problem or the question, and the hypothesis for solving the issues.\n",
    "\n",
    "Bonus point of your could provide short information of other approaches to the same problem\n",
    "\n",
    "Introduce your method for building the model, short explain why given method is selected, what is it merits\n",
    "\n",
    "Some text about the code packages you are going to use for the project (which language and libraries are used)\n",
    "\n",
    "What is the goal you want to achieve after fininshing the project\n",
    "\n",
    "* Solving the specific problem\n",
    "* Learn how to build probabilic model for real world tasks\n",
    "* ..."
   ]
  },
  {
   "cell_type": "code",
   "execution_count": 1,
   "metadata": {
    "id": "wVtiISezsyQa"
   },
   "outputs": [],
   "source": [
    "import numpy as np\n",
    "import matplotlib as mpl\n",
    "from matplotlib import pyplot as plt"
   ]
  },
  {
   "cell_type": "markdown",
   "metadata": {
    "id": "YtBpp8W1pmEP"
   },
   "source": [
    "## Methods\n",
    "\n",
    "Short description of which methods have been used for processing the data, building the model and doing the inference\n",
    "\n",
    "\n"
   ]
  },
  {
   "cell_type": "markdown",
   "metadata": {
    "id": "Tm9VRv-Iq0qP"
   },
   "source": [
    "### Dataset description and processing\n",
    "\n",
    "What are the variables in the given dataset?\n",
    "\n",
    "Are they random variable or deterministic variable? What are their distributions? \n",
    "\n",
    "What is the relation between the variable, \n",
    "\n",
    "* which one is observed ?\n",
    "* which one is target variable ?\n",
    "* which one is latent variable ?\n",
    "* How all these variables could be linked to solve our problem ?"
   ]
  },
  {
   "cell_type": "code",
   "execution_count": 2,
   "metadata": {
    "colab": {
     "base_uri": "https://localhost:8080/",
     "height": 362
    },
    "id": "YAFi8Ss0sGk2",
    "outputId": "74e4fb2d-9de1-4b15-cb4c-d2d6b461be8a"
   },
   "outputs": [
    {
     "data": {
      "text/plain": "<Figure size 432x288 with 2 Axes>",
      "image/png": "[encoded data removed]"
     },
     "metadata": {
      "needs_background": "light"
     },
     "output_type": "display_data"
    }
   ],
   "source": [
    "# plot the variable distribution with some preprocessing here to \n",
    "# support your assumption and hypothesis,  but don't be\n",
    "# restricted to this code, you should think about relevant way\n",
    "# of explaining your own hypothesis\n",
    "x = 1.5 * np.random.randn(5218) + 8\n",
    "x = np.log1p(x)\n",
    "y = np.random.rand(5218) - x + np.random.randn(5218)\n",
    "plt.subplot(1, 2, 1)\n",
    "plt.hist(x)\n",
    "plt.title(\"X\")\n",
    "plt.subplot(1, 2, 2)\n",
    "plt.hist(y)\n",
    "_ = plt.title(\"Y\")"
   ]
  },
  {
   "cell_type": "markdown",
   "metadata": {
    "id": "0ZvGatL4qQda"
   },
   "source": [
    "### Model description\n",
    "\n",
    "Defining the generative process\n",
    "\n",
    "Writing the pseudo-programe for generating the data, then visualizing it with graphical model\n",
    "\n",
    "Specify all the distributions and their parameters\n",
    "\n",
    "Write down the joint probability equation of the model\n",
    "\n",
    "![alt text](https://drive.google.com/uc?export=view&id=1EpyIGvcpVI1ksbKVAfbH6omClQJrtR5m)"
   ]
  },
  {
   "cell_type": "markdown",
   "metadata": {
    "id": "m7N9EXoyq5C-"
   },
   "source": [
    "### Inference Method\n",
    "\n",
    "Defining the inference process, drawing the graphical model of the inference\n",
    "\n",
    "Which method are used for inferring the latent variables?\n",
    "\n",
    "How to building the model programmatically (coding ...)?"
   ]
  },
  {
   "cell_type": "code",
   "execution_count": null,
   "metadata": {
    "id": "vFfB2U2a0yn6",
    "pycharm": {
     "is_executing": true
    }
   },
   "outputs": [],
   "source": [
    "# your code for building the model\n",
    "# and doing the inference\n",
    "\n",
    "import pandas as pd\n",
    "import geopandas as gpd\n",
    "\n",
    "data = gpd.read_file('./spatial_income_1880.csv')\n",
    "\n",
    "data.plot()\n",
    "# data.plot(kind='scatter', x='orthodox_density', y='total_income')\n",
    "# data.plot(kind='scatter', x='total_density', y='total_income')"
   ]
  },
  {
   "cell_type": "markdown",
   "metadata": {
    "id": "wijU_JAaq6bG"
   },
   "source": [
    "## Experiment"
   ]
  },
  {
   "cell_type": "markdown",
   "metadata": {
    "id": "IGH7iQfcsKaH"
   },
   "source": [
    "### Experiments setup"
   ]
  },
  {
   "cell_type": "markdown",
   "metadata": {
    "id": "X_Az8m3ZsRR_"
   },
   "source": [
    "### Results"
   ]
  },
  {
   "cell_type": "markdown",
   "metadata": {
    "id": "OW1YvhHOsTTe"
   },
   "source": [
    "## Discussion and conclusion"
   ]
  }
 ],
 "metadata": {
  "colab": {
   "include_colab_link": true,
   "name": "BAY1_ReportForm.ipynb",
   "provenance": []
  },
  "kernelspec": {
   "display_name": "Python 3",
   "language": "python",
   "name": "python3"
  },
  "language_info": {
   "codemirror_mode": {
    "name": "ipython",
    "version": 3
   },
   "file_extension": ".py",
   "mimetype": "text/x-python",
   "name": "python",
   "nbconvert_exporter": "python",
   "pygments_lexer": "ipython3",
   "version": "3.8.5"
  }
 },
 "nbformat": 4,
 "nbformat_minor": 1
}