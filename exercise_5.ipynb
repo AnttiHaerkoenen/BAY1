{
 "cells": [
  {
   "cell_type": "markdown",
   "metadata": {},
   "source": [
    "# Exercises 5\n",
    "\n",
    "*Antti Härkönen*\n",
    "\n",
    "## 1.\n",
    "\n",
    "Posterior distribution of the latent variables factorises if they are independent, i.e.\n",
    " $ z_n \\perp\\!\\!\\!\\perp z_{m \\neq n} \\mid x_n, \\mu, \\sigma^2, \\pi $. The hyperparameter $\\pi$ is the only node from which\n",
    " $\\bf Z$ nodes can be reached, and since it is always a fork between two child nodes, path through it is blocked.\n",
    "\n",
    "$ p(\\bf Z \\mid \\bf X, \\mu, \\sigma^2, \\pi) $\n",
    "\n",
    "$ = \\prod\\limits_{n=1}^N p(z_n \\mid x_n, \\mu, \\sigma^2, \\pi) $\n"
   ]
  },
  {
   "cell_type": "markdown",
   "metadata": {},
   "source": [
    "## 2."
   ]
  },
  {
   "cell_type": "code",
   "execution_count": null,
   "metadata": {
    "pycharm": {
     "name": "#%%\n"
    }
   },
   "outputs": [],
   "source": [
    "import numpy as np\n",
    "import pandas as pd\n",
    "import matplotlib.pyplot as plt\n",
    "import tensorflow_probability as tfp\n",
    "tfd = tfp.distributions\n",
    "\n",
    "\n",
    "class GibbsSampler:\n",
    "    pass\n",
    "\n",
    "\n",
    "n = 500\n",
    "K = 2, 4, 16, 256\n",
    "sigmas = 0.25, 0.5, 1., 2., 4.\n",
    "\n",
    "for k in K:\n",
    "    for sigma_0 in sigmas:\n",
    "        alpha = np.ones(k, dtype=np.float)\n",
    "        theta = tfd.Dirichlet(alpha).sample(1).numpy()\n",
    "        z = tfd.Categorical(probs=theta).sample(n).numpy()\n",
    "\n",
    "        mu_x = tfd.Normal(np.zeros(k), np.repeat(sigma_0, k)).sample(n).numpy()\n",
    "        mu_zx = np.squeeze(np.take_along_axis(mu_x, z, 1))\n",
    "        x = np.squeeze(tfd.Normal(mu_zx, np.ones(n)).sample(1).numpy())\n",
    "\n",
    "        mu_y = tfd.Normal(np.zeros(k), np.repeat(sigma_0, k)).sample(n).numpy()\n",
    "        mu_zy = np.squeeze(np.take_along_axis(mu_y, z, 1))\n",
    "        y = np.squeeze(tfd.Normal(mu_zy, np.ones(n)).sample(1).numpy())\n",
    "\n",
    "        xy = pd.DataFrame({'x': x, 'y': y, 'k': np.squeeze(z)})"
   ]
  },
  {
   "cell_type": "markdown",
   "metadata": {},
   "source": [
    "## 3."
   ]
  },
  {
   "cell_type": "code",
   "execution_count": 1,
   "metadata": {
    "pycharm": {
     "name": "#%%\n"
    }
   },
   "outputs": [
    {
     "name": "stdout",
     "output_type": "stream",
     "text": [
      "     MITTAUSAIKA  Tyyppi  Taimen  TyyppiTaimen  Allastoisto  Allas Unnamed: 6  \\\n",
      "0        ALOITUS       2       1             1            1    822        NaN   \n",
      "1        ALOITUS       2       1             1            1    822        NaN   \n",
      "2        ALOITUS       2       1             1            1    822        NaN   \n",
      "3        ALOITUS       2       1             1            1    822        NaN   \n",
      "4        ALOITUS       2       1             1            1    822        NaN   \n",
      "...          ...     ...     ...           ...          ...    ...        ...   \n",
      "1076     LOPETUS       1       1             3            2    817       G113   \n",
      "1077     LOPETUS       1       1             3            2    817       G113   \n",
      "1078     LOPETUS       1       1             3            2    817       G113   \n",
      "1079     LOPETUS       1       1             3            2    817       G113   \n",
      "1080     LOPETUS       1       1             3            2    817       G113   \n",
      "\n",
      "      Pituus Paino    Condition  Sukupuoli  Sukukypsyys Huom      N  \\\n",
      "0        110  11,3  0,719677654        NaN          NaN  NaN  100.0   \n",
      "1        109  13,1  0,858030532        NaN          NaN  NaN  100.0   \n",
      "2        110  11,9  0,757890627        NaN          NaN  NaN  100.0   \n",
      "3        111  12,6  0,780491904        NaN          NaN  NaN  100.0   \n",
      "4        111  12,6  0,780491904        NaN          NaN  NaN  100.0   \n",
      "...      ...   ...          ...        ...          ...  ...    ...   \n",
      "1076     161  50,2  0,993261765        1.0          1.0  NaN    NaN   \n",
      "1077     157  49,6  1,060164541        0.0          1.0  NaN    NaN   \n",
      "1078     161  53,2  1,052620038        1.0          1.0  NaN    NaN   \n",
      "1079     162  55,2   1,07163368        1.0          0.0  NaN    NaN   \n",
      "1080     146  37,6  1,004369977        1.0          1.0  NaN    NaN   \n",
      "\n",
      "      Unnamed: 14  \n",
      "0             NaN  \n",
      "1             NaN  \n",
      "2             NaN  \n",
      "3             NaN  \n",
      "4             NaN  \n",
      "...           ...  \n",
      "1076          NaN  \n",
      "1077          NaN  \n",
      "1078          NaN  \n",
      "1079          NaN  \n",
      "1080          NaN  \n",
      "\n",
      "[1081 rows x 15 columns]\n"
     ]
    }
   ],
   "source": [
    "import numpy as np\n",
    "import pandas as pd\n",
    "\n",
    "data = pd.read_csv('fish.csv', sep=';')\n",
    "print(data)"
   ]
  }
 ],
 "metadata": {
  "kernelspec": {
   "display_name": "Python 3",
   "language": "python",
   "name": "python3"
  },
  "language_info": {
   "codemirror_mode": {
    "name": "ipython",
    "version": 3
   },
   "file_extension": ".py",
   "mimetype": "text/x-python",
   "name": "python",
   "nbconvert_exporter": "python",
   "pygments_lexer": "ipython3",
   "version": "3.8.5"
  }
 },
 "nbformat": 4,
 "nbformat_minor": 1
}