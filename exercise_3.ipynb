{
 "cells": [
  {
   "cell_type": "markdown",
   "metadata": {
    "pycharm": {
     "name": "#%% md\n"
    }
   },
   "source": [
    "# Exercises 3\n",
    "\n",
    "*Antti Härkönen*\n",
    "\n",
    "## 1.\n",
    "\n",
    "a)\n",
    "\n",
    "The cyclical nature of the graph would mean that causation happens in effect in both directions along the graph,\n",
    "and this contradicts the definition of a directed graph.\n",
    "\n",
    "b)"
   ]
  },
  {
   "cell_type": "code",
   "execution_count": 29,
   "metadata": {
    "pycharm": {
     "name": "#%%\n"
    }
   },
   "outputs": [
    {
     "data": {
      "text/plain": "<matplotlib.axes._axes.Axes at 0x7f18f113cb20>"
     },
     "execution_count": 29,
     "metadata": {},
     "output_type": "execute_result"
    },
    {
     "data": {
      "text/plain": "<Figure size 160.157x160.157 with 1 Axes>",
      "image/png": "[encoded data removed]"
     },
     "metadata": {},
     "output_type": "display_data"
    }
   ],
   "source": [
    "import daft\n",
    "from matplotlib import rc\n",
    "\n",
    "rc(\"font\", family=\"serif\", size=16)\n",
    "scale = 1.25\n",
    "pgm = daft.PGM()\n",
    "\n",
    "pgm.add_node('x1', '$x_1$', 2, 3, scale=scale)\n",
    "pgm.add_node('x2', '$x_2$', 1, 3, scale=scale)\n",
    "pgm.add_node('x3', '$x_3$', 3, 3, scale=scale)\n",
    "pgm.add_node('x4', '$x_4$', 2, 2, scale=scale)\n",
    "pgm.add_node('x5', '$x_5$', 3, 2, scale=scale)\n",
    "pgm.add_node('x6', '$x_6$', 2, 1, scale=scale)\n",
    "pgm.add_node('x7', '$x_7$', 3, 1, scale=scale)\n",
    "\n",
    "pgm.add_edge('x1', 'x4', directed=True)\n",
    "pgm.add_edge('x2', 'x4', directed=True)\n",
    "pgm.add_edge('x3', 'x4', directed=True)\n",
    "pgm.add_edge('x1', 'x5', directed=True)\n",
    "pgm.add_edge('x3', 'x5', directed=True)\n",
    "pgm.add_edge('x4', 'x6', directed=True)\n",
    "pgm.add_edge('x4', 'x7', directed=True)\n",
    "pgm.add_edge('x5', 'x7', directed=True)\n",
    "\n",
    "pgm.render()"
   ]
  },
  {
   "cell_type": "markdown",
   "metadata": {
    "pycharm": {
     "name": "#%% md\n"
    }
   },
   "source": [
    "## 2.\n"
   ]
  },
  {
   "cell_type": "code",
   "execution_count": null,
   "outputs": [],
   "source": [
    "import daft\n",
    "from matplotlib import rc\n",
    "\n",
    "rc(\"font\", family=\"serif\", size=16)\n",
    "scale = 1.25\n",
    "pgm = daft.PGM()\n",
    "\n",
    "pgm.add_node('theta', '$\\theta$', 1, 1, scale=scale)\n"
   ],
   "metadata": {
    "collapsed": false,
    "pycharm": {
     "name": "#%%\n"
    }
   }
  },
  {
   "cell_type": "markdown",
   "metadata": {},
   "source": [
    "## 3."
   ]
  },
  {
   "cell_type": "markdown",
   "metadata": {},
   "source": [
    "## 4."
   ]
  },
  {
   "cell_type": "code",
   "execution_count": 27,
   "metadata": {
    "pycharm": {
     "name": "#%%\n"
    }
   },
   "outputs": [],
   "source": []
  }
 ],
 "metadata": {
  "kernelspec": {
   "display_name": "Python 3",
   "language": "python",
   "name": "python3"
  },
  "language_info": {
   "codemirror_mode": {
    "name": "ipython",
    "version": 3
   },
   "file_extension": ".py",
   "mimetype": "text/x-python",
   "name": "python",
   "nbconvert_exporter": "python",
   "pygments_lexer": "ipython3",
   "version": "3.8.5"
  }
 },
 "nbformat": 4,
 "nbformat_minor": 1
}