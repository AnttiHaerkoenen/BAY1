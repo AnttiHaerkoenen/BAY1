{
 "cells": [
  {
   "cell_type": "markdown",
   "source": [
    "# Exercises 3\n",
    "\n",
    "*Antti Härkönen*\n",
    "\n",
    "## 1.\n",
    "\n",
    "a)\n",
    "\n",
    "The cyclical nature of the graph would mean that causation happens in effect in both directions along the graph,\n",
    "and this contradicts the definition of a directed graph.\n",
    "\n",
    "b)"
   ],
   "metadata": {
    "collapsed": false
   }
  },
  {
   "cell_type": "code",
   "execution_count": 7,
   "outputs": [
    {
     "data": {
      "text/plain": "<matplotlib.axes._axes.Axes at 0x1f3c33b7128>"
     },
     "execution_count": 7,
     "metadata": {},
     "output_type": "execute_result"
    },
    {
     "data": {
      "text/plain": "<Figure size 160.157x160.157 with 1 Axes>",
      "image/png": "[encoded data removed]"
     },
     "metadata": {},
     "output_type": "display_data"
    }
   ],
   "source": [
    "import daft\n",
    "from matplotlib import rc\n",
    "\n",
    "rc(\"font\", family=\"serif\", size=16)\n",
    "scale = 1.25\n",
    "pgm = daft.PGM()\n",
    "\n",
    "pgm.add_node('x1', '$x_1$', 2, 3, scale=scale)\n",
    "pgm.add_node('x2', '$x_2$', 1, 3, scale=scale)\n",
    "pgm.add_node('x3', '$x_3$', 3, 3, scale=scale)\n",
    "pgm.add_node('x4', '$x_4$', 2, 2, scale=scale)\n",
    "pgm.add_node('x5', '$x_5$', 3, 2, scale=scale)\n",
    "pgm.add_node('x6', '$x_6$', 2, 1, scale=scale)\n",
    "pgm.add_node('x7', '$x_7$', 3, 1, scale=scale)\n",
    "\n",
    "pgm.add_edge('x1', 'x4', directed=True)\n",
    "pgm.add_edge('x2', 'x4', directed=True)\n",
    "pgm.add_edge('x3', 'x4', directed=True)\n",
    "pgm.add_edge('x1', 'x5', directed=True)\n",
    "pgm.add_edge('x3', 'x5', directed=True)\n",
    "pgm.add_edge('x4', 'x6', directed=True)\n",
    "pgm.add_edge('x4', 'x7', directed=True)\n",
    "pgm.add_edge('x5', 'x7', directed=True)\n",
    "\n",
    "pgm.render()"
   ],
   "metadata": {
    "collapsed": false,
    "pycharm": {
     "name": "#%%\n"
    }
   }
  },
  {
   "cell_type": "markdown",
   "source": [
    "## 2.\n"
   ],
   "metadata": {
    "collapsed": false
   }
  },
  {
   "cell_type": "code",
   "execution_count": 3,
   "outputs": [
    {
     "data": {
      "text/plain": "<matplotlib.axes._axes.Axes at 0x1fd26472320>"
     },
     "execution_count": 3,
     "metadata": {},
     "output_type": "execute_result"
    },
    {
     "data": {
      "text/plain": "<Figure size 114.094x283.583 with 1 Axes>",
      "image/png": "[encoded data removed]"
     },
     "metadata": {},
     "output_type": "display_data"
    }
   ],
   "source": [
    "import daft\n",
    "from matplotlib import rc\n",
    "\n",
    "rc(\"font\", family=\"serif\", size=16)\n",
    "scale = 1.25\n",
    "pgm = daft.PGM()\n",
    "\n",
    "pgm.add_node('alpha', r'$\\alpha$', 3, 5, fixed=True, scale=scale)\n",
    "pgm.add_node('theta', r'$\\theta$', 3, 4, scale=scale)\n",
    "pgm.add_node('sigma', r'$\\sigma_0$', 2, 3, fixed=True, scale=scale)\n",
    "pgm.add_node('mu_k', r'$\\mu_k$', 2, 2, scale=scale)\n",
    "pgm.add_node('z', r'$z_n$', 3, 3, scale=scale)\n",
    "pgm.add_node('mu', r'$\\mu_{z_n}$', 3, 2, scale=scale)\n",
    "pgm.add_node('x', r'$x_n$', 3, 1, scale=scale)\n",
    "\n",
    "pgm.add_edge('alpha', 'theta', directed=True)\n",
    "pgm.add_edge('theta', 'z', directed=True)\n",
    "pgm.add_edge('z', 'mu', directed=True)\n",
    "pgm.add_edge('sigma', 'mu_k', directed=True)\n",
    "pgm.add_edge('mu_k', 'mu', directed=True)\n",
    "pgm.add_edge('mu', 'x', directed=True)\n",
    "\n",
    "pgm.add_plate([2.5, 0.25, 1, 3.25], 'N')\n",
    "\n",
    "pgm.render()"
   ],
   "metadata": {
    "collapsed": false,
    "pycharm": {
     "name": "#%%\n"
    }
   }
  },
  {
   "cell_type": "markdown",
   "source": [
    "$ p(\\alpha, \\theta, \\sigma_0, \\mu_k, z_n, \\mu_{z_n}, x_n) $\n",
    "$ = p(\\alpha)p(\\theta | \\alpha)p(\\sigma_0)p(\\mu_k | \\sigma_0) \\prod^{N}_{n=1}[p(z_n | \\theta)p(\\mu_{z_n} | z_n, \\mu_k)p(x_n | \\mu_{z_n})] $"
   ],
   "metadata": {
    "collapsed": false,
    "pycharm": {
     "name": "#%% md\n"
    }
   }
  },
  {
   "cell_type": "markdown",
   "source": [
    "## 3."
   ],
   "metadata": {
    "collapsed": false
   }
  },
  {
   "cell_type": "markdown",
   "source": [
    "## 4."
   ],
   "metadata": {
    "collapsed": false
   }
  },
  {
   "cell_type": "code",
   "execution_count": 3,
   "outputs": [
    {
     "data": {
      "text/plain": "<matplotlib.axes._axes.Axes at 0x25f46c01fd0>"
     },
     "execution_count": 3,
     "metadata": {},
     "output_type": "execute_result"
    },
    {
     "data": {
      "text/plain": "<Figure size 110.551x110.551 with 1 Axes>",
      "image/png": "[encoded data removed]"
     },
     "metadata": {},
     "output_type": "display_data"
    }
   ],
   "source": [
    "import daft\n",
    "from matplotlib import rc\n",
    "\n",
    "rc(\"font\", family=\"serif\", size=16)\n",
    "scale = 1.5\n",
    "pgm = daft.PGM()\n",
    "\n",
    "pgm.add_node('mean_income', '$\\mu_{inc_{loc}}$', 2, 3, scale=scale)\n",
    "pgm.add_node('real_income', '$inc_{loc}$', 2, 2, scale=scale, observed=True)\n",
    "pgm.add_node('orthodox', '$O_{loc}$', 1, 2, scale=scale, observed=True)\n",
    "pgm.add_node('segregation', '$S_{loc}$', 1, 3, scale=scale)\n",
    "\n",
    "pgm.add_edge('mean_income', 'real_income', directed=True)\n",
    "pgm.add_edge('segregation', 'orthodox', directed=True)\n",
    "pgm.add_edge('mean_income', 'orthodox', directed=True)\n",
    "\n",
    "pgm.render()"
   ],
   "metadata": {
    "collapsed": false,
    "pycharm": {
     "name": "#%%\n"
    }
   }
  }
 ],
 "metadata": {
  "kernelspec": {
   "display_name": "Python 3",
   "language": "python",
   "name": "python3"
  },
  "language_info": {
   "codemirror_mode": {
    "name": "ipython",
    "version": 3
   },
   "file_extension": ".py",
   "mimetype": "text/x-python",
   "name": "python",
   "nbconvert_exporter": "python",
   "pygments_lexer": "ipython3",
   "version": "3.7.0"
  }
 },
 "nbformat": 4,
 "nbformat_minor": 1
}