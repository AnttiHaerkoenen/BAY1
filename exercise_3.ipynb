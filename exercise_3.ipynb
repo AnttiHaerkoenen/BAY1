{
 "cells": [
  {
   "cell_type": "markdown",
   "metadata": {},
   "source": [
    "# Exercises 3\n",
    "\n",
    "*Antti Härkönen*\n",
    "\n",
    "## 1.\n",
    "\n",
    "a)\n",
    "\n",
    "The cyclical nature of the graph would mean that each node in the circle is both descendant and parent of itself,\n",
    "and that causation happens in effect to both directions along the graph, and this contradicts the definition\n",
    "of a directed graph.\n",
    "\n",
    "b)"
   ]
  },
  {
   "cell_type": "code",
   "execution_count": 1,
   "metadata": {
    "pycharm": {
     "name": "#%%\n"
    }
   },
   "outputs": [
    {
     "data": {
      "text/plain": [
       "<matplotlib.axes._axes.Axes at 0x21c6a3c96a0>"
      ]
     },
     "execution_count": 1,
     "metadata": {},
     "output_type": "execute_result"
    },
    {
     "data": {
      "image/png": "[encoded data removed]",
      "text/plain": [
       "<Figure size 160.157x160.157 with 1 Axes>"
      ]
     },
     "metadata": {},
     "output_type": "display_data"
    }
   ],
   "source": [
    "import daft\n",
    "from matplotlib import rc\n",
    "\n",
    "rc(\"font\", family=\"serif\", size=16)\n",
    "scale = 1.25\n",
    "pgm = daft.PGM()\n",
    "\n",
    "pgm.add_node('x1', '$x_1$', 2, 3, scale=scale)\n",
    "pgm.add_node('x2', '$x_2$', 1, 3, scale=scale)\n",
    "pgm.add_node('x3', '$x_3$', 3, 3, scale=scale)\n",
    "pgm.add_node('x4', '$x_4$', 2, 2, scale=scale)\n",
    "pgm.add_node('x5', '$x_5$', 3, 2, scale=scale)\n",
    "pgm.add_node('x6', '$x_6$', 2, 1, scale=scale)\n",
    "pgm.add_node('x7', '$x_7$', 3, 1, scale=scale)\n",
    "\n",
    "pgm.add_edge('x1', 'x4', directed=True)\n",
    "pgm.add_edge('x2', 'x4', directed=True)\n",
    "pgm.add_edge('x3', 'x4', directed=True)\n",
    "pgm.add_edge('x1', 'x5', directed=True)\n",
    "pgm.add_edge('x3', 'x5', directed=True)\n",
    "pgm.add_edge('x4', 'x6', directed=True)\n",
    "pgm.add_edge('x4', 'x7', directed=True)\n",
    "pgm.add_edge('x5', 'x7', directed=True)\n",
    "\n",
    "pgm.render()"
   ]
  },
  {
   "cell_type": "markdown",
   "metadata": {},
   "source": [
    "## 2.\n"
   ]
  },
  {
   "cell_type": "code",
   "execution_count": 2,
   "metadata": {
    "pycharm": {
     "name": "#%%\n"
    }
   },
   "outputs": [
    {
     "data": {
      "text/plain": [
       "<matplotlib.axes._axes.Axes at 0x21c75777f60>"
      ]
     },
     "execution_count": 2,
     "metadata": {},
     "output_type": "execute_result"
    },
    {
     "data": {
      "image/png": "[encoded data removed]",
      "text/plain": [
       "<Figure size 114.094x283.583 with 1 Axes>"
      ]
     },
     "metadata": {},
     "output_type": "display_data"
    }
   ],
   "source": [
    "import daft\n",
    "from matplotlib import rc\n",
    "\n",
    "rc(\"font\", family=\"serif\", size=16)\n",
    "scale = 1.25\n",
    "pgm = daft.PGM()\n",
    "\n",
    "pgm.add_node('alpha', r'$\\alpha$', 3, 5, fixed=True, scale=scale)\n",
    "pgm.add_node('theta', r'$\\theta$', 3, 4, scale=scale)\n",
    "pgm.add_node('sigma', r'$\\sigma_0$', 2, 3, fixed=True, scale=scale)\n",
    "pgm.add_node('mu_k', r'$\\mu_k$', 2, 2, scale=scale)\n",
    "pgm.add_node('z', r'$z_n$', 3, 3, scale=scale)\n",
    "pgm.add_node('mu', r'$\\mu_{z_n}$', 3, 2, scale=scale)\n",
    "pgm.add_node('x', r'$x_n$', 3, 1, scale=scale)\n",
    "\n",
    "pgm.add_edge('alpha', 'theta', directed=True)\n",
    "pgm.add_edge('theta', 'z', directed=True)\n",
    "pgm.add_edge('z', 'mu', directed=True)\n",
    "pgm.add_edge('sigma', 'mu_k', directed=True)\n",
    "pgm.add_edge('mu_k', 'mu', directed=True)\n",
    "pgm.add_edge('mu', 'x', directed=True)\n",
    "\n",
    "pgm.add_plate([2.5, 0.25, 1, 3.25], 'N')\n",
    "\n",
    "pgm.render()"
   ]
  },
  {
   "cell_type": "markdown",
   "metadata": {
    "pycharm": {
     "name": "#%% md\n"
    }
   },
   "source": [
    "$ p(\\alpha, \\theta, \\sigma_0, \\mu_k, z_n, \\mu_{z_n}, x_n) $\n",
    "$ = p(\\alpha)p(\\theta | \\alpha)p(\\sigma_0)p(\\mu_k | \\sigma_0) \\prod\\limits^{N}_{n=1}[p(z_n | \\theta)p(\\mu_{z_n} | z_n, \\mu_k)p(x_n | \\mu_{z_n})] $"
   ]
  },
  {
   "cell_type": "markdown",
   "metadata": {},
   "source": [
    "## 3.\n",
    "\n",
    "Prior: $ p(\\beta) = Gamma(\\beta|a,b) = \\frac{1}{\\Gamma(a)} b^a \\beta^{a-1} e^{-b \\beta} \\propto $\n",
    "$ \\beta^{a-1} e^{-b \\beta} $\n",
    "\n",
    "Likelihood: $ p(X|\\beta) \\propto $\n",
    "$ \\beta^{\\frac{n}{2}} e^{-\\frac{\\beta}{2} \\sum\\limits_{i=1}^{n} (x_i - \\mu)^2} $\n",
    "\n",
    "Posterior: $ p(\\beta | X) \\propto p(\\beta) p(X|\\beta) = $\n",
    "$ \\beta^{a-1} e^{-b \\beta} \\beta^{\\frac{n}{2}} e^{-\\frac{\\beta}{2} \\sum\\limits_{i=1}^{n} (x_i - \\mu)^2} = $\n",
    "$ \\beta^{a-1 + \\frac{n}{2}} e^{-b \\beta - \\frac{\\beta}{2} \\sum\\limits_{i=1}^{n} (x_i - \\mu)^2} $\n",
    "$ \\propto \\frac{1}{\\Gamma(a + \\frac{n}{2})} ({b+\\frac12\\sum\\limits_{i=1}^{n} (x_i - \\mu)^2})^{a + \\frac{n}{2}} \\beta^{a + \\frac{n}{2} -1} e^{(b+\\frac12\\sum\\limits_{i=1}^{n} (x_i - \\mu)^2) \\beta} $\n",
    "$ = Gamma(\\beta | a_{new}, b_{new}) $, where $a_{new} = a + \\frac{n}2$ and $b_{new} = b+\\frac12\\sum\\limits_{i=1}^{n} (x_i - \\mu)^2$."
   ]
  },
  {
   "cell_type": "markdown",
   "metadata": {
    "pycharm": {
     "name": "#%% md\n"
    }
   },
   "source": [
    "## 4."
   ]
  },
  {
   "cell_type": "code",
   "execution_count": 3,
   "metadata": {
    "pycharm": {
     "name": "#%%\n"
    }
   },
   "outputs": [
    {
     "data": {
      "text/plain": [
       "<matplotlib.axes._axes.Axes at 0x21c75856f98>"
      ]
     },
     "execution_count": 3,
     "metadata": {},
     "output_type": "execute_result"
    },
    {
     "data": {
      "image/png": "[encoded data removed]",
      "text/plain": [
       "<Figure size 156.024x195.591 with 1 Axes>"
      ]
     },
     "metadata": {},
     "output_type": "display_data"
    }
   ],
   "source": [
    "import daft\n",
    "from matplotlib import rc\n",
    "\n",
    "rc(\"font\", family=\"serif\", size=16)\n",
    "scale = 1.25\n",
    "pgm = daft.PGM()\n",
    "\n",
    "pgm.add_node('mean_income', r'$\\mu_{ic_{k}}$', 2, 2, scale=scale)\n",
    "pgm.add_node('religion_income', r'$\\mu_{ic_{r}}$', 3, 2, scale=scale, fixed=True)\n",
    "pgm.add_node('real_income', r'$ic_{kn}$', 2, 1, scale=scale, observed=True)\n",
    "pgm.add_node('orthodox', r'$O_{k}$', 1, 2, scale=scale, observed=True)\n",
    "pgm.add_node('segregation', r'$SO_{k}$', 1, 3, scale=scale)\n",
    "# pgm.add_node('alpha', r'$\\alpha$', 0, 3, scale=scale, fixed=True)\n",
    "# pgm.add_node('beta', r'$\\beta$', 1, 4, scale=scale, fixed=True)\n",
    "# pgm.add_node('mu_mu', r'$\\mu_{\\mu}$', 3, 2, scale=scale, fixed=True)\n",
    "# pgm.add_node('sigma_mu', r'$\\sigma_{\\mu}$', 3, 3, scale=scale, fixed=True)\n",
    "\n",
    "# pgm.add_edge('mu_mu', 'mean_income', directed=True)\n",
    "# pgm.add_edge('sigma_mu', 'mean_income', directed=True)\n",
    "# pgm.add_edge('alpha', 'segregation', directed=True)\n",
    "# pgm.add_edge('beta', 'segregation', directed=True)\n",
    "pgm.add_edge('mean_income', 'real_income', directed=True)\n",
    "pgm.add_edge('religion_income', 'mean_income', directed=True)\n",
    "pgm.add_edge('segregation', 'orthodox', directed=True)\n",
    "pgm.add_edge('orthodox', 'mean_income', directed=True)\n",
    "\n",
    "pgm.add_plate([0.5, 0.2, 2.1, 3.25], 'K')\n",
    "pgm.add_plate([1.5, 0.3, 1, 1.25], 'N')\n",
    "\n",
    "pgm.render()"
   ]
  },
  {
   "cell_type": "markdown",
   "metadata": {
    "pycharm": {
     "name": "#%% md\n"
    }
   },
   "source": [
    "$\\mu_{ic_{k}} = $ mean income in location k, $ \\mu_{ic_{k}} \\sim LogNormal(\\mu_k, \\sigma_k) $\n",
    "\n",
    "$\\mu_{ic_{r}} = $ mean income by majority religion, $ \\mu_{ic_{r}} \\sim LogNormal(\\mu_r, \\sigma_r) $\n",
    "\n",
    "$ic_{kn} = $ income of person n in location k, $ ic_{kn} \\sim Exp((\\mu_{ic_{r}})^{-1}) $\n",
    "\n",
    "$O_{k} = $ the proportion of Russian Orthodox population in location k, $ O_{k} \\sim Beta(\\alpha_O, \\beta_O) $\n",
    "\n",
    "$SO_{k} = $ the proportion of Russian Orthodox population in location k without income differences,\n",
    "$ SO_{k} \\sim Beta(\\alpha_{SO}, \\beta_{SO}) $\n",
    "\n",
    "$K = $ locations\n",
    "\n",
    "$N = $ people in a location\n",
    "\n"
   ]
  }
 ],
 "metadata": {
  "kernelspec": {
   "display_name": "Python 3",
   "language": "python",
   "name": "python3"
  },
  "language_info": {
   "codemirror_mode": {
    "name": "ipython",
    "version": 3
   },
   "file_extension": ".py",
   "mimetype": "text/x-python",
   "name": "python",
   "nbconvert_exporter": "python",
   "pygments_lexer": "ipython3",
   "version": "3.7.0"
  }
 },
 "nbformat": 4,
 "nbformat_minor": 1
}