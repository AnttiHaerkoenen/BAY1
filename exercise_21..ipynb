{
 "cells": [
  {
   "cell_type": "markdown",
   "metadata": {
    "collapsed": true,
    "pycharm": {
     "name": "#%% md\n"
    }
   },
   "source": [
    "# Exercises 1.\n",
    "\n",
    "## 1."
   ]
  },
  {
   "cell_type": "code",
   "execution_count": 44,
   "outputs": [
    {
     "data": {
      "text/plain": "<matplotlib.axes._axes.Axes at 0x299b9849430>"
     },
     "execution_count": 44,
     "metadata": {},
     "output_type": "execute_result"
    },
    {
     "data": {
      "text/plain": "<Figure size 153.071x299.528 with 1 Axes>",
      "image/png": "[encoded data removed]"
     },
     "metadata": {},
     "output_type": "display_data"
    }
   ],
   "source": [
    "import daft\n",
    "from matplotlib import rc\n",
    "\n",
    "rc(\"font\", family=\"serif\", size=16)\n",
    "scale = 1.25\n",
    "pgm = daft.PGM()\n",
    "\n",
    "pgm.add_node('alpha', r'$\\alpha$', 1, 6, fixed=True, shape='rectangle')\n",
    "pgm.add_node('theta', r'$\\theta_i$', 1, 5)\n",
    "pgm.add_node('z', r'$z_{ij}$', 1, 4)\n",
    "pgm.add_node('x', r'$x_{ij}$', 1, 3, observed=True)\n",
    "pgm.add_node('beta', r'$\\beta_z$', 1, 1.75)\n",
    "pgm.add_node('eta', r'$\\eta$', 1, 1, fixed=True, offset=(0, -20), shape='rectangle')\n",
    "\n",
    "pgm.add_edge('alpha', 'theta', directed=True)\n",
    "pgm.add_edge('theta', 'z', directed=True)\n",
    "pgm.add_edge('z', 'x', directed=True)\n",
    "pgm.add_edge('beta', 'x', directed=True)\n",
    "pgm.add_edge('eta', 'beta', directed=True)\n",
    "\n",
    "pgm.add_plate([0.25, 2.6, 1.5, 2], 'N')\n",
    "pgm.add_plate([-0.25, 2.4, 2.5, 3.25], 'M')\n",
    "pgm.add_plate([-0.25, 1.25, 2.5, 1], 'K')\n",
    "\n",
    "pgm.render()\n"
   ],
   "metadata": {
    "collapsed": false,
    "pycharm": {
     "name": "#%%\n"
    }
   }
  },
  {
   "cell_type": "code",
   "execution_count": null,
   "outputs": [],
   "source": [
    "import tensorflow as tf\n",
    "import tensorflow_probability.distributions as tfd\n",
    "import pandas as pd\n",
    "\n",
    "bank = pd.read_csv('bank-full.csv', delimiter=';')\n",
    "bank = bank.loc[:, ['job', 'marital', 'education', 'default', 'housing', 'loan', 'contact', 'previous', 'poutcome']]\n",
    "alpha = 1\n",
    "eta = 1\n",
    "# beta = (eta)\n",
    "theta = tfd.Dirichlet(alpha)\n",
    "z = tfd.Categorical(theta)\n",
    "# x = (beta[z])"
   ],
   "metadata": {
    "collapsed": false,
    "pycharm": {
     "name": "#%%\n"
    }
   }
  }
 ],
 "metadata": {
  "kernelspec": {
   "display_name": "Python 3",
   "language": "python",
   "name": "python3"
  },
  "language_info": {
   "codemirror_mode": {
    "name": "ipython",
    "version": 2
   },
   "file_extension": ".py",
   "mimetype": "text/x-python",
   "name": "python",
   "nbconvert_exporter": "python",
   "pygments_lexer": "ipython2",
   "version": "2.7.6"
  }
 },
 "nbformat": 4,
 "nbformat_minor": 0
}