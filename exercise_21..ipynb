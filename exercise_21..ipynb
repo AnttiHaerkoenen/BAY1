{
 "cells": [
  {
   "cell_type": "markdown",
   "metadata": {
    "collapsed": true,
    "pycharm": {
     "name": "#%% md\n"
    }
   },
   "source": [
    "# Exercises 1.\n",
    "\n",
    "## 1."
   ]
  },
  {
   "cell_type": "code",
   "execution_count": 2,
   "outputs": [
    {
     "ename": "SyntaxError",
     "evalue": "invalid syntax (<ipython-input-2-d772ffc58d04>, line 9)",
     "output_type": "error",
     "traceback": [
      "\u001B[1;36m  File \u001B[1;32m\"<ipython-input-2-d772ffc58d04>\"\u001B[1;36m, line \u001B[1;32m9\u001B[0m\n\u001B[1;33m    beta =\u001B[0m\n\u001B[1;37m           ^\u001B[0m\n\u001B[1;31mSyntaxError\u001B[0m\u001B[1;31m:\u001B[0m invalid syntax\n"
     ]
    }
   ],
   "source": [
    "import tensorflow as tf\n",
    "import tensorflow_probability.distributions as tfd\n",
    "import pandas as pd\n",
    "\n",
    "bank = pd.read_csv('bank-full.csv', delimiter=';')\n",
    "bank = bank.loc[:, ['job', 'marital', 'education', 'default', 'housing', 'loan', 'contact', 'previous', 'poutcome']]\n",
    "alpha = 1\n",
    "nu = 1\n",
    "# beta =\n",
    "theta = tfd.Dirichlet(alpha)\n",
    "z = tfd.Categorical(theta)\n",
    "# x = (beta[z])"
   ],
   "metadata": {
    "collapsed": false,
    "pycharm": {
     "name": "#%%\n"
    }
   }
  }
 ],
 "metadata": {
  "kernelspec": {
   "display_name": "Python 3",
   "language": "python",
   "name": "python3"
  },
  "language_info": {
   "codemirror_mode": {
    "name": "ipython",
    "version": 2
   },
   "file_extension": ".py",
   "mimetype": "text/x-python",
   "name": "python",
   "nbconvert_exporter": "python",
   "pygments_lexer": "ipython2",
   "version": "2.7.6"
  }
 },
 "nbformat": 4,
 "nbformat_minor": 0
}