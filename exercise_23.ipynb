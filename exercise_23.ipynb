{
 "cells": [
  {
   "cell_type": "markdown",
   "source": [
    "# Exercises 3.\n",
    "\n",
    "*Antti Härkönen*\n",
    "\n",
    "## 1.\n",
    "\n",
    "$$ q_j*(z_j) \\propto exp(E_{-j}[log p(z_j, \\bf z_{-j}, \\bf x)]) $$\n",
    "\n",
    "$$ = exp[E_{-j}(log [p(z_j \\mid \\bf z_{-j}, \\bf x) \\prod_{i \\neq j}p(z_i \\mid \\bf x) \\prod_j p(\\bf x_j)])] $$\n",
    "\n",
    "$$ = exp[E_{-j}(log [p(z_j \\mid z_{-j}, x)] + \\sum_{i \\neq j} E_{i}log [p(z_i \\mid x)] + \\sum_j E_{j}log [p(\\bf x_j)])] $$\n",
    "\n",
    "$$ = exp(E_{-j}[log p(z_j \\mid z_{-j}, x)]) \\prod_{i \\neq j} exp(E_{i}log [p(z_i \\mid x)]) \\prod_j exp [E_{j}log p(\\bf x_j)] $$\n",
    "\n",
    "$$ = exp(E_{-j}[log p(z_j \\mid z_{-j}, x)]) \\prod_{i \\neq j} exp(const.) \\prod_j exp (const.) $$\n",
    "\n",
    "$$ \\propto exp(E_{-j}[log p(z_j \\mid \\bf z_{-j}, \\bf x)])$$\n",
    "\n",
    "$$ \\square $$"
   ],
   "metadata": {
    "collapsed": false
   }
  },
  {
   "cell_type": "markdown",
   "source": [
    "## 2.\n",
    "\n",
    "$$ q(\\mu, \\bf \\Lambda, \\pi) = q(\\mu \\mid \\Lambda, \\pi) q(\\Lambda \\mid \\pi) q(\\pi) $$\n",
    "\n",
    "$$ = q(\\pi) \\prod^K_{k=1} q(\\mu_k \\mid \\Lambda_k, \\pi) \\prod^K_{k=1} q(\\Lambda_k \\mid \\pi) $$\n",
    "\n",
    "$$ = q(\\pi) \\prod^K_{k=1} \\frac{q(\\mu_k, \\Lambda_k, \\pi)}{q(\\Lambda_k, \\pi)} \\times \\frac{q(\\Lambda_k, \\pi)}{q(\\pi)} $$\n",
    "\n",
    "$$ = q(\\pi) \\prod^K_{k=1} \\frac{q(\\mu_k, \\Lambda_k, \\pi)}{q(\\pi)} $$\n",
    "\n",
    "There are no paths from $\\pi$ to $\\mu$ or $\\Lambda$, so they are independent and\n",
    "$q(\\mu_k, \\Lambda_k, \\pi) = q(\\mu_k, \\Lambda_k) q(\\pi)$.\n",
    "\n",
    "$$ = q(\\pi) \\prod^K_{k=1} \\frac{q(\\mu_k, \\Lambda_k) q(\\pi)}{q(\\pi)} $$\n",
    "\n",
    "$$ = q(\\pi) \\prod^K_{k=1}q(\\mu_k, \\Lambda_k) $$\n",
    "\n",
    "$$ \\square $$"
   ],
   "metadata": {
    "collapsed": false
   }
  },
  {
   "cell_type": "markdown",
   "source": [
    "## 3."
   ],
   "metadata": {
    "collapsed": false,
    "pycharm": {
     "name": "#%% md\n"
    }
   }
  },
  {
   "cell_type": "code",
   "execution_count": 4,
   "outputs": [
    {
     "name": "stdout",
     "output_type": "stream",
     "text": [
      "VI finished with 31 iterations.\n"
     ]
    }
   ],
   "source": [
    "import json\n",
    "from typing import Iterable\n",
    "\n",
    "import numpy as np\n",
    "import pandas as pd\n",
    "import networkx as nx\n",
    "from scipy.special import psi\n",
    "\n",
    "edges = pd.read_csv('email-Eu-core.txt', sep=' ')\n",
    "labels = pd.read_csv('email-Eu-core-department-labels.txt', sep=' ')\n",
    "selection = set(labels.loc[labels['1'] <= 10, '0'])\n",
    "labels = labels[labels['0'].isin(selection)].reset_index()\n",
    "y = nx.to_numpy_matrix(nx.from_pandas_edgelist(labels, '0', '1'))\n",
    "\n",
    "class MMSBModel:\n",
    "    def __init__(self, y, k, alpha):\n",
    "        self.N = self.M = y.shape[0]\n",
    "        self.K = k\n",
    "        self.alpha = np.repeat(alpha, self.K).astype(np.float16)\n",
    "        self.Y = y.astype(np.float16)\n",
    "        self.phi = np.random.dirichlet(self.alpha, size=(self.N, self.M)).astype(np.float16)\n",
    "        self.gamma = np.random.dirichlet(np.ones(self.K), size=self.N).astype(np.float16)\n",
    "        self.B = np.random.random(size=(self.K, self.K)).astype(np.float16)\n",
    "\n",
    "    def vi(self, convergence_threshold=0.01, max_iter=1000):\n",
    "        Y = np.array(self.Y, copy=True)[..., np.newaxis, np.newaxis]\n",
    "        Y_T = Y.transpose(1, 0, 2, 3)\n",
    "        for it in range(max_iter):\n",
    "            phi = np.broadcast_to(self.phi[..., np.newaxis], (self.N, self.M, self.K, self.K)).copy()\n",
    "            phi[np.arange(self.N), np.arange(self.M)] = np.zeros((self.K, self.K))\n",
    "            possible_connections = np.transpose(phi, axes=(1, 0, 3, 2)) * phi\n",
    "            B_new = (possible_connections * np.broadcast_to(\n",
    "                        self.Y[..., np.newaxis, np.newaxis],\n",
    "                        possible_connections.shape)\n",
    "                    ).sum(axis=(0, 1), keepdims=True) / possible_connections.sum(axis=(0, 1), keepdims=True)\n",
    "\n",
    "            for _ in range(max_iter):\n",
    "                phi = self.phi.copy()[..., np.newaxis].transpose(1,0,2,3)\n",
    "                mean_log_pi = np.exp(psi(self.gamma) - psi(self.gamma.sum(axis=1, keepdims=True)))\n",
    "                mean_log_pi = np.broadcast_to(\n",
    "                    np.expand_dims(mean_log_pi, axis=1),\n",
    "                    (self.N, self.M, self.K),\n",
    "                ).copy()\n",
    "                phi = mean_log_pi * np.prod(((B_new**Y) * ((1. - B_new)**(1. - Y)))**phi, axis=3)\n",
    "                phi_new = phi / phi.sum(axis=2, keepdims=True)\n",
    "                self.phi = phi_new.copy()\n",
    "\n",
    "                phi = self.phi.copy()[..., np.newaxis]\n",
    "                B_T = B_new.transpose(0, 1, 3, 2)\n",
    "                phi = mean_log_pi * np.prod(((B_T**Y_T) * ((1. - B_T)**(1. - Y_T)))**phi, axis=2)\n",
    "                phi_new = phi / phi.sum(axis=2, keepdims=True)\n",
    "                self.phi = phi_new.copy()\n",
    "                gamma_new = self.alpha + self.phi.sum(axis=0) + self.phi.sum(axis=1)\n",
    "\n",
    "                change_gamma = np.abs(gamma_new - self.gamma).sum()\n",
    "                self.gamma = gamma_new\n",
    "                if change_gamma <= convergence_threshold:\n",
    "                    break\n",
    "            B_new = np.squeeze(B_new)\n",
    "            change_B = np.abs((B_new - self.B)).sum()\n",
    "            self.B = B_new\n",
    "            if change_B <= convergence_threshold:\n",
    "                print(f\"VI finished with {it} iterations.\")\n",
    "                break\n",
    "        else:\n",
    "            print(f\"VI finished with {max_iter} iterations.\")\n",
    "\n",
    "model = MMSBModel(y, 10, 0.1)\n",
    "model.vi(max_iter=100, convergence_threshold=0.001)\n",
    "gamma = pd.DataFrame(model.gamma, columns=[i for i in range(1, 11)])\n",
    "gamma.to_csv('gamma.csv')"
   ],
   "metadata": {
    "collapsed": false,
    "pycharm": {
     "name": "#%%\n"
    }
   }
  },
  {
   "cell_type": "code",
   "execution_count": 11,
   "outputs": [
    {
     "name": "stdout",
     "output_type": "stream",
     "text": [
      "            1         2         3         4         5          6         7  \\\n",
      "0    0.100002  0.100002  0.100002  0.100002  0.100002  624.95580  0.100002   \n",
      "20   0.100005  0.100005  0.100005  0.100005  0.100005  810.61280  0.100005   \n",
      "40   0.100005  0.100005  0.100005  0.100005  0.100005  810.19040  0.100005   \n",
      "60   0.100005  0.100005  0.100005  0.100005  0.100005  810.35170  0.100005   \n",
      "80   0.100005  0.100005  0.100005  0.100005  0.100005  810.61280  0.100005   \n",
      "100  0.100005  0.100005  0.100005  0.100005  0.100005  810.42004  0.100005   \n",
      "120  0.100005  0.100005  0.100005  0.100005  0.100005  810.61280  0.100005   \n",
      "140  0.100005  0.100005  0.100005  0.100005  0.100005  810.42004  0.100005   \n",
      "160  0.100005  0.100005  0.100005  0.100005  0.100005  810.35170  0.100005   \n",
      "180  0.100005  0.100005  0.100005  0.100005  0.100005  810.36070  0.100005   \n",
      "200  0.100005  0.100005  0.100005  0.100005  0.100005  810.61280  0.100005   \n",
      "220  0.100005  0.100005  0.100005  0.100005  0.100005  810.24350  0.100005   \n",
      "240  0.100005  0.100005  0.100005  0.100005  0.100005  810.35170  0.100005   \n",
      "260  0.100005  0.100005  0.100005  0.100005  0.100005  810.30480  0.100005   \n",
      "280  0.100005  0.100005  0.100005  0.100005  0.100005  810.61280  0.100005   \n",
      "300  0.100005  0.100005  0.100005  0.100005  0.100005  810.36070  0.100005   \n",
      "320  0.100005  0.100005  0.100005  0.100005  0.100005  810.61280  0.100005   \n",
      "340  0.100005  0.100005  0.100005  0.100005  0.100005  810.36070  0.100005   \n",
      "360  0.100005  0.100005  0.100005  0.100005  0.100005  810.61280  0.100005   \n",
      "380  0.100005  0.100005  0.100005  0.100005  0.100005  810.42004  0.100005   \n",
      "400  0.100005  0.100005  0.100005  0.100005  0.100005  810.42004  0.100005   \n",
      "420  0.100005  0.100005  0.100005  0.100005  0.100005  810.24350  0.100005   \n",
      "\n",
      "            8           9        10  \n",
      "0    0.100002  255.243590  0.100002  \n",
      "20   0.100005   69.589000  0.100005  \n",
      "40   0.100005   70.009010  0.100005  \n",
      "60   0.100005   69.850010  0.100005  \n",
      "80   0.100005   69.589000  0.100005  \n",
      "100  0.100005   69.780330  0.100005  \n",
      "120  0.100005   69.589000  0.100005  \n",
      "140  0.100005   69.780330  0.100005  \n",
      "160  0.100005   69.850010  0.100005  \n",
      "180  0.100005   69.840610  0.100005  \n",
      "200  0.100005   69.589000  0.100005  \n",
      "220  0.100005   69.958176  0.100005  \n",
      "240  0.100005   69.850010  0.100005  \n",
      "260  0.100005   69.895250  0.100005  \n",
      "280  0.100005   69.589000  0.100005  \n",
      "300  0.100005   69.840610  0.100005  \n",
      "320  0.100005   69.589000  0.100005  \n",
      "340  0.100005   69.840610  0.100005  \n",
      "360  0.100005   69.589000  0.100005  \n",
      "380  0.100005   69.780330  0.100005  \n",
      "400  0.100005   69.780330  0.100005  \n",
      "420  0.100005   69.958176  0.100005  \n"
     ]
    },
    {
     "data": {
      "text/plain": "<Figure size 432x288 with 1 Axes>",
      "image/png": "[encoded data removed]"
     },
     "metadata": {
      "needs_background": "light"
     },
     "output_type": "display_data"
    }
   ],
   "source": [
    "import pandas as pd\n",
    "\n",
    "gamma = pd.read_csv('gamma.csv', index_col=0)[::20]\n",
    "gamma.plot.bar(stacked=True)\n",
    "print(gamma)"
   ],
   "metadata": {
    "collapsed": false,
    "pycharm": {
     "name": "#%%\n"
    }
   }
  },
  {
   "cell_type": "markdown",
   "source": [
    "I tested the model on the members of the first 10 groups."
   ],
   "metadata": {
    "collapsed": false
   }
  },
  {
   "cell_type": "markdown",
   "source": [
    "## 4."
   ],
   "metadata": {
    "collapsed": false
   }
  }
 ],
 "metadata": {
  "kernelspec": {
   "name": "pycharm-4448ffd9",
   "language": "python",
   "display_name": "PyCharm (BAY1)"
  },
  "language_info": {
   "codemirror_mode": {
    "name": "ipython",
    "version": 2
   },
   "file_extension": ".py",
   "mimetype": "text/x-python",
   "name": "python",
   "nbconvert_exporter": "python",
   "pygments_lexer": "ipython2",
   "version": "2.7.6"
  }
 },
 "nbformat": 4,
 "nbformat_minor": 0
}