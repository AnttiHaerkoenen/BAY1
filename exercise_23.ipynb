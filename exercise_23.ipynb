{
 "cells": [
  {
   "cell_type": "markdown",
   "source": [
    "# Exercises 3.\n",
    "\n",
    "*Antti Härkönen*\n",
    "\n",
    "## 1.\n",
    "\n",
    "$$ q_j*(z_j) \\propto exp(E_{-j}[log p(z_j, \\bf z_{-j}, \\bf x)]) $$\n",
    "\n",
    "$$ = exp[E_{-j}(log [p(z_j \\mid \\bf z_{-j}, \\bf x) \\prod_{i \\neq j}p(z_i \\mid \\bf x) \\prod_j p(\\bf x_j)])] $$\n",
    "\n",
    "$$ = exp[E_{-j}(log [p(z_j \\mid z_{-j}, x)] + \\sum_{i \\neq j} E_{i}log [p(z_i \\mid x)] + \\sum_j E_{j}log [p(\\bf x_j)])] $$\n",
    "\n",
    "$$ = exp(E_{-j}[log p(z_j \\mid z_{-j}, x)]) \\prod_{i \\neq j} exp(E_{i}log [p(z_i \\mid x)]) \\prod_j exp [E_{j}log p(\\bf x_j)] $$\n",
    "\n",
    "$$ = exp(E_{-j}[log p(z_j \\mid z_{-j}, x)]) \\prod_{i \\neq j} exp(const.) \\prod_j exp (const.) $$\n",
    "\n",
    "$$ \\propto exp(E_{-j}[log p(z_j \\mid \\bf z_{-j}, \\bf x)])$$\n",
    "\n",
    "$$ \\square $$"
   ],
   "metadata": {
    "collapsed": false
   }
  },
  {
   "cell_type": "markdown",
   "source": [
    "## 2.\n",
    "\n",
    "$$ q(\\mu, \\bf \\Lambda, \\pi) = q(\\mu \\mid \\Lambda, \\pi) q(\\Lambda \\mid \\pi) q(\\pi) $$\n",
    "\n",
    "$$ = q(\\pi) \\prod^K_{k=1} q(\\mu_k \\mid \\Lambda_k, \\pi) \\prod^K_{k=1} q(\\Lambda_k \\mid \\pi) $$\n",
    "\n",
    "$$ = q(\\pi) \\prod^K_{k=1} \\frac{q(\\mu_k, \\Lambda_k, \\pi)}{q(\\Lambda_k, \\pi)} \\times \\frac{q(\\Lambda_k, \\pi)}{q(\\pi)} $$\n",
    "\n",
    "$$ = q(\\pi) \\prod^K_{k=1} \\frac{q(\\mu_k, \\Lambda_k, \\pi)}{q(\\pi)} $$\n",
    "\n",
    "There are no paths from $\\pi$ to $\\mu$ or $\\Lambda$, so they are independent and\n",
    "$q(\\mu_k, \\Lambda_k, \\pi) = q(\\mu_k, \\Lambda_k) q(\\pi)$.\n",
    "\n",
    "$$ = q(\\pi) \\prod^K_{k=1} \\frac{q(\\mu_k, \\Lambda_k) q(\\pi)}{q(\\pi)} $$\n",
    "\n",
    "$$ = q(\\pi) \\prod^K_{k=1}q(\\mu_k, \\Lambda_k) $$\n",
    "\n",
    "$$ \\square $$"
   ],
   "metadata": {
    "collapsed": false
   }
  },
  {
   "cell_type": "markdown",
   "source": [
    "## 3."
   ],
   "metadata": {
    "collapsed": false,
    "pycharm": {
     "name": "#%% md\n"
    }
   }
  },
  {
   "cell_type": "code",
   "execution_count": 21,
   "outputs": [],
   "source": [
    "import numpy as np\n",
    "import pandas as pd\n",
    "import networkx as nx\n",
    "\n",
    "edges = pd.read_csv('email-Eu-core.txt', sep=' ')\n",
    "labels = pd.read_csv('email-Eu-core-department-labels.txt', sep=' ')\n",
    "\n",
    "class MMSBModel:\n",
    "    def __init__(self, y, k, alpha):\n",
    "        self.N = y.shape[0]\n",
    "        self.K = k\n",
    "        self.alpha = np.repeat(alpha, self.K)\n",
    "        self.Y = y\n",
    "        # N = M in this model\n",
    "        self.phi = np.random.dirichlet(self.alpha, size=(self.N, self.N))\n",
    "        self.gamma = np.random.dirichlet(np.ones(self.K), size=self.N)\n",
    "        self.B = np.random.random(size=(self.K, self.K))\n",
    "        self.rho = (1. - np.sum(self.Y) / (self.N * self.N))\n",
    "\n",
    "y = nx.to_numpy_matrix(nx.from_pandas_edgelist(edges, '0', '1'))\n",
    "model = MMSBModel(y, 42, 0.1)"
   ],
   "metadata": {
    "collapsed": false,
    "pycharm": {
     "name": "#%%\n"
    }
   }
  },
  {
   "cell_type": "markdown",
   "source": [
    "## 4."
   ],
   "metadata": {
    "collapsed": false
   }
  }
 ],
 "metadata": {
  "kernelspec": {
   "display_name": "Python 3",
   "language": "python",
   "name": "python3"
  },
  "language_info": {
   "codemirror_mode": {
    "name": "ipython",
    "version": 2
   },
   "file_extension": ".py",
   "mimetype": "text/x-python",
   "name": "python",
   "nbconvert_exporter": "python",
   "pygments_lexer": "ipython2",
   "version": "2.7.6"
  }
 },
 "nbformat": 4,
 "nbformat_minor": 0
}