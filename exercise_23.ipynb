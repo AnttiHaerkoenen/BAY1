{
 "cells": [
  {
   "cell_type": "markdown",
   "source": [
    "# Exercises 3.\n",
    "\n",
    "*Antti Härkönen*\n",
    "\n",
    "## 1.\n",
    "\n",
    "$$ q_j*(z_j) \\propto exp(E_{-j}[log p(z_j, \\bf z_{-j}, \\bf x)]) $$\n",
    "\n",
    "$$ = exp[E_{-j}(log [p(z_j \\mid \\bf z_{-j}, \\bf x) \\prod_{i \\neq j}p(z_i \\mid \\bf x) \\prod_j p(\\bf x_j)])] $$\n",
    "\n",
    "$$ = exp[E_{-j}(log [p(z_j \\mid z_{-j}, x)] + \\sum_{i \\neq j} E_{i}log [p(z_i \\mid x)] + \\sum_j E_{j}log [p(\\bf x_j)])] $$\n",
    "\n",
    "$$ = exp(E_{-j}[log p(z_j \\mid z_{-j}, x)]) \\prod_{i \\neq j} exp(E_{i}log [p(z_i \\mid x)]) \\prod_j exp [E_{j}log p(\\bf x_j)] $$\n",
    "\n",
    "$$ = exp(E_{-j}[log p(z_j \\mid z_{-j}, x)]) \\prod_{i \\neq j} exp(const.) \\prod_j exp (const.) $$\n",
    "\n",
    "$$ \\propto exp(E_{-j}[log p(z_j \\mid \\bf z_{-j}, \\bf x)])$$\n",
    "\n",
    "$$ \\square $$"
   ],
   "metadata": {
    "collapsed": false
   }
  },
  {
   "cell_type": "markdown",
   "source": [
    "## 2.\n",
    "\n",
    "$$ q(\\mu, \\bf \\Lambda, \\pi) = q(\\mu \\mid \\Lambda, \\pi) q(\\Lambda \\mid \\pi) q(\\pi) $$\n",
    "\n",
    "$$ = q(\\pi) \\prod^K_{k=1} q(\\mu_k \\mid \\Lambda_k, \\pi) \\prod^K_{k=1} q(\\Lambda_k \\mid \\pi) $$\n",
    "\n",
    "$$ = q(\\pi) \\prod^K_{k=1} \\frac{q(\\mu_k, \\Lambda_k, \\pi)}{q(\\Lambda_k, \\pi)} \\times \\frac{q(\\Lambda_k, \\pi)}{q(\\pi)} $$\n",
    "\n",
    "$$ = q(\\pi) \\prod^K_{k=1} \\frac{q(\\mu_k, \\Lambda_k, \\pi)}{q(\\pi)} $$\n",
    "\n",
    "There are no paths from $\\pi$ to $\\mu$ or $\\Lambda$, so they are independent and\n",
    "$q(\\mu_k, \\Lambda_k, \\pi) = q(\\mu_k, \\Lambda_k) q(\\pi)$.\n",
    "\n",
    "$$ = q(\\pi) \\prod^K_{k=1} \\frac{q(\\mu_k, \\Lambda_k) q(\\pi)}{q(\\pi)} $$\n",
    "\n",
    "$$ = q(\\pi) \\prod^K_{k=1}q(\\mu_k, \\Lambda_k) $$\n",
    "\n",
    "$$ \\square $$"
   ],
   "metadata": {
    "collapsed": false
   }
  },
  {
   "cell_type": "markdown",
   "source": [
    "## 3."
   ],
   "metadata": {
    "collapsed": false,
    "pycharm": {
     "name": "#%% md\n"
    }
   }
  },
  {
   "cell_type": "code",
   "execution_count": 19,
   "outputs": [
    {
     "name": "stdout",
     "output_type": "stream",
     "text": [
      "VI finished with 2 iterations.\n"
     ]
    }
   ],
   "source": [
    "import numpy as np\n",
    "import pandas as pd\n",
    "import networkx as nx\n",
    "from scipy.special import psi\n",
    "\n",
    "edges = pd.read_csv('email-Eu-core.txt', sep=' ')\n",
    "labels = pd.read_csv('email-Eu-core-department-labels.txt', sep=' ')\n",
    "y = nx.to_numpy_matrix(nx.from_pandas_edgelist(edges, '0', '1'))\n",
    "\n",
    "class MMSBModel:\n",
    "    def __init__(self, y, k, alpha):\n",
    "        self.N = self.M = y.shape[0]\n",
    "        self.K = k\n",
    "        self.alpha = np.repeat(alpha, self.K)\n",
    "        self.Y = y\n",
    "        self.phi = np.random.dirichlet(self.alpha, size=(self.N, self.M))\n",
    "        self.gamma = np.random.dirichlet(np.ones(self.K), size=self.N)\n",
    "        self.B = np.random.random(size=(self.K, self.K))\n",
    "        self.rho = (1. - np.sum(self.Y) / (self.N * self.M))\n",
    "\n",
    "    def vi(self, convergence_threshold=0.01, max_iter=1000):\n",
    "        Y = np.array(self.Y, copy=True)[..., np.newaxis, np.newaxis]\n",
    "        Y_T = Y.transpose(1, 0, 2, 3)\n",
    "        for it in range(max_iter):\n",
    "            phi = np.broadcast_to(self.phi[..., np.newaxis], (self.N, self.M, self.K, self.K)).copy()\n",
    "            phi[np.arange(self.N), np.arange(self.M)] = np.zeros((self.K, self.K))\n",
    "            possible_connections = np.transpose(phi, axes=(1, 0, 3, 2)) * phi\n",
    "            B_new = (possible_connections * np.broadcast_to(\n",
    "                        self.Y[..., np.newaxis, np.newaxis],\n",
    "                        possible_connections.shape)\n",
    "                    ).sum(axis=(0, 1), keepdims=True) / possible_connections.sum(axis=(0, 1), keepdims=True)\n",
    "\n",
    "            for _ in range(max_iter):\n",
    "                phi = self.phi.copy()[..., np.newaxis].transpose(1,0,2,3)\n",
    "                mean_log_pi = np.exp(psi(self.gamma) - psi(self.gamma.sum(axis=1, keepdims=True)))\n",
    "                mean_log_pi = np.broadcast_to(\n",
    "                    np.expand_dims(mean_log_pi, axis=1),\n",
    "                    (self.N, self.M, self.K),\n",
    "                ).copy()\n",
    "                phi = mean_log_pi * np.prod(((B_new**Y) * ((1. - B_new)**(1. - Y)))**phi, axis=3)\n",
    "                phi_new = phi / phi.sum(axis=2, keepdims=True)\n",
    "                self.phi = phi_new.copy()\n",
    "\n",
    "                phi = self.phi.copy()[..., np.newaxis]\n",
    "                B_T = B_new.transpose(0, 1, 3, 2)\n",
    "                phi = mean_log_pi * np.prod(((B_T**Y_T) * ((1. - B_T)**(1. - Y_T)))**phi, axis=2)\n",
    "                phi_new = phi / phi.sum(axis=2, keepdims=True)\n",
    "                self.phi = phi_new.copy()\n",
    "                gamma_new = self.alpha + self.phi.sum(axis=0) + self.phi.sum(axis=1)\n",
    "\n",
    "                change_gamma = np.abs(gamma_new - self.gamma).sum()\n",
    "                self.gamma = gamma_new\n",
    "                if change_gamma <= convergence_threshold:\n",
    "                    break\n",
    "            B_new = np.squeeze(B_new)\n",
    "            change_B = np.abs((B_new - self.B)).sum()\n",
    "            self.B = B_new\n",
    "            if change_B <= convergence_threshold:\n",
    "                print(f\"VI finished with {it} iterations.\")\n",
    "                return\n",
    "        print(f\"VI finished with {max_iter} iterations.\")\n",
    "\n",
    "\n",
    "model = MMSBModel(y, 42, 0.005)\n",
    "model.vi()"
   ],
   "metadata": {
    "collapsed": false,
    "pycharm": {
     "name": "#%%\n"
    }
   }
  },
  {
   "cell_type": "markdown",
   "source": [
    "## 4."
   ],
   "metadata": {
    "collapsed": false
   }
  }
 ],
 "metadata": {
  "kernelspec": {
   "name": "pycharm-4448ffd9",
   "language": "python",
   "display_name": "PyCharm (BAY1)"
  },
  "language_info": {
   "codemirror_mode": {
    "name": "ipython",
    "version": 2
   },
   "file_extension": ".py",
   "mimetype": "text/x-python",
   "name": "python",
   "nbconvert_exporter": "python",
   "pygments_lexer": "ipython2",
   "version": "2.7.6"
  }
 },
 "nbformat": 4,
 "nbformat_minor": 0
}