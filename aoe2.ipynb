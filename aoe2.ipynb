{
 "cells": [
  {
   "cell_type": "code",
   "execution_count": 39,
   "metadata": {
    "collapsed": true
   },
   "outputs": [
    {
     "name": "stdout",
     "output_type": "stream",
     "text": [
      "[1 1 1 ... 7 7 7]\n"
     ]
    },
    {
     "data": {
      "text/plain": "<AxesSubplot:xlabel='p'>"
     },
     "execution_count": 39,
     "metadata": {},
     "output_type": "execute_result"
    },
    {
     "data": {
      "text/plain": "<Figure size 432x288 with 1 Axes>",
      "image/png": "[encoded data removed]"
     },
     "metadata": {
      "needs_background": "light"
     },
     "output_type": "display_data"
    }
   ],
   "source": [
    "import numpy as np\n",
    "import pandas as pd\n",
    "from scipy.stats import beta\n",
    "\n",
    "\n",
    "# def posterior(x, p, a, b):\n",
    "#     a_post = a + x.size\n",
    "#     b_post = b + (x-1).sum()\n",
    "#     return beta.pdf(p, a_post, b_post)\n",
    "\n",
    "x = np.repeat([1, 2, 3, 4, 5, 6, 7], repeats=[5940, 4306, 3242, 2272, 1711, 1217, 3512])\n",
    "print(x)\n",
    "p = np.linspace(0.37, 0.39, num=1000)\n",
    "\n",
    "a, b = 1, 1\n",
    "\n",
    "result = posterior(x, p, a, b)\n",
    "pd.DataFrame({'posterior': result, 'p': p}).plot(x='p')"
   ]
  }
 ],
 "metadata": {
  "kernelspec": {
   "display_name": "Python 3",
   "language": "python",
   "name": "python3"
  },
  "language_info": {
   "codemirror_mode": {
    "name": "ipython",
    "version": 2
   },
   "file_extension": ".py",
   "mimetype": "text/x-python",
   "name": "python",
   "nbconvert_exporter": "python",
   "pygments_lexer": "ipython2",
   "version": "2.7.6"
  }
 },
 "nbformat": 4,
 "nbformat_minor": 0
}