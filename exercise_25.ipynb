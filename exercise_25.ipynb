{
 "cells": [
  {
   "cell_type": "markdown",
   "metadata": {
    "collapsed": true,
    "pycharm": {
     "name": "#%% md\n"
    }
   },
   "source": [
    "# Exercises 5.\n",
    "\n",
    "*Antti Härkönen*"
   ]
  },
  {
   "cell_type": "markdown",
   "source": [
    "## 1.\n",
    "\n",
    "\n",
    "Proof that the transformation f is 1) easy to invert and 2) its Jacobian is easy to compute.\n",
    "\n",
    "##### 1)\n",
    "\n",
    "$ f(x_i) =\n",
    "\\begin{cases}\n",
    "x_i, & 0 \\leq i \\leq d \\\\\n",
    "x_i \\odot exp(s(x_{1:d})) + t(x_{1:d}), & d < i \\leq D\n",
    "\\end{cases}\n",
    "$\n",
    "\n",
    "First case is trivial, and the second case can be solved:\n",
    "\n",
    "$ y_{d+1:D} = x_{d+1:D} \\odot exp(s(x_{1:d})) + t(x_{1:d}) = x_{d+1:D} \\odot exp(s(y_{1:d})) + t(y_{1:d}) $\n",
    "$ \\iff y_{d+1:D} - t(y_{1:d}) = x_{d+1:D} \\odot exp(s(y_{1:d})) $\n",
    "$ \\iff x_{d+1:D} = (y_{d+1:D} - t(y_{1:d})) \\odot exp(-s(y_{1:d})) $\n",
    "\n",
    "$ f^{-1}(x_i) =\n",
    "\\begin{cases}\n",
    "x_i, & 0 \\leq i \\leq d \\\\\n",
    "(x_{d+1:D} - t(x_{1:d})) \\odot exp(-s(x_{1:d})), & d < i \\leq D\n",
    "\\end{cases}\n",
    "$\n",
    "\n",
    "##### 2)\n",
    "\n",
    "$ \\bf J = \\begin{bmatrix} \\frac{\\partial \\bf f_{1:d}}{\\partial \\bf x_{1:d}'}\n",
    "& \\frac{\\partial \\bf f_{1:d}}{\\partial \\bf x_{d+1:D}'} \\\\\n",
    "\\frac{\\partial \\bf f_{d+1:D}}{\\partial \\bf x_{1:d}'}\n",
    "& \\frac{\\partial \\bf f_{d+1:D}}{\\partial \\bf x_{d+1:D}'} \\end{bmatrix} $\n",
    "\n",
    "$\\frac{\\partial \\bf f_{1:d}}{\\partial \\bf x_{1:d}'} = \\begin{bmatrix}\n",
    "\\frac{\\partial f_1}{\\partial x_1} && \\cdots && \\frac{\\partial f_1}{\\partial x_d}\n",
    "\\\\ \\vdots && \\ddots && \\vdots\n",
    "\\\\ \\frac{\\partial f_d}{\\partial x_1} && \\cdots && \\frac{\\partial f_d}{\\partial x_d}\n",
    "\\end{bmatrix} =\n",
    "\\begin{bmatrix}\n",
    "\\frac{\\partial f_1}{\\partial x_1} && \\cdots && \\frac{\\partial f_1}{\\partial x_d}\n",
    "\\\\ \\vdots && \\ddots && \\vdots\n",
    "\\\\ \\frac{\\partial f_d}{\\partial x_1} && \\cdots && \\frac{\\partial f_d}{\\partial x_d}\n",
    "\\end{bmatrix}\n",
    "= \\begin{bmatrix} 1 && \\cdots && 0\n",
    "\\\\ \\vdots && \\ddots && \\vdots\n",
    "\\\\ 0 && \\cdots && 1 \\end{bmatrix} = \\bf I_d $\n",
    "\n",
    "$ \\frac{\\partial \\bf f_{1:d}}{\\partial \\bf x_{d+1:D}'} =\n",
    "\\begin{bmatrix}\n",
    "\\frac{\\partial f_1}{\\partial x_{d+1}} && \\cdots && \\frac{\\partial f_1}{\\partial x_D}\n",
    "\\\\ \\vdots && \\ddots && \\vdots\n",
    "\\\\ \\frac{\\partial f_d}{\\partial x_{d+1}} && \\cdots && \\frac{\\partial f_d}{\\partial x_D}\n",
    "\\end{bmatrix}\n",
    "= \\begin{bmatrix} 0 && \\cdots && 0\n",
    "\\\\ \\vdots && \\ddots && \\vdots\n",
    "\\\\ 0 && \\cdots && 0 \\end{bmatrix} = \\bf 0_{d \\times (D-d) }\n",
    "$\n",
    "\n",
    "$ \\frac{\\partial \\bf f_{d+1:D}}{\\partial \\bf x_{d+1:D}'}\n",
    "= \\begin{bmatrix} \\frac{\\partial f_{d+1}}{\\partial x_{d+1}} && \\cdots && \\frac{\\partial f_{d+1}}{\\partial x_D}\n",
    "\\\\ \\vdots && \\ddots && \\vdots\n",
    "\\\\ \\frac{\\partial f_D}{\\partial x_{d+1}} && \\cdots && \\frac{\\partial f_D}{\\partial x_D}\n",
    "\\end{bmatrix}\n",
    "= \\begin{bmatrix} \\frac{\\partial x_{d+1} exp(s(x_{1:d})) + \\partial x_{d+1} t(x_{1:d}) }{\\partial x_{d+1}} && \\cdots && 0\n",
    "\\\\ \\vdots && \\ddots && \\vdots\n",
    "\\\\ 0 && \\cdots && \\frac{\\partial x_D exp(s(x_{1:d})) + \\partial x_D t(x_{1:d}) }{\\partial x_D}\n",
    "\\end{bmatrix}\n",
    "= diag(exp[s(x_{1:d})]) $\n",
    "\n",
    "$ \\bf J = \\begin{bmatrix} \\bf I_d & \\bf 0 \\\\\n",
    "\\frac{\\partial \\bf f_{d+1:D}}{\\partial \\bf x_{1:d}'} & diag(exp[s(x_{1:d})]) \\end{bmatrix} $\n",
    "\n",
    "$\\bf J$ is a triangular matrix, so the determinant is the product of the diagonals.\n",
    "\n",
    "$$ \\prod_i exp[s(x_{1:d})_i] = exp \\begin{pmatrix} \\sum_i s(x_{1:d})_i) \\end{pmatrix} $$\n",
    "\n",
    "$ \\blacksquare $"
   ],
   "metadata": {
    "collapsed": false,
    "pycharm": {
     "name": "#%% md\n"
    }
   }
  },
  {
   "cell_type": "markdown",
   "source": [
    "## 2.\n"
   ],
   "metadata": {
    "collapsed": false,
    "pycharm": {
     "name": "#%% md\n"
    }
   }
  },
  {
   "cell_type": "markdown",
   "source": [
    "## 4.\n",
    "\n",
    "### Antonia Godoy-Loritea, Roger Guimera, Cristopher Moorec, Marta Sales-Pardo (2016): Accurate and scalable social recommendation using mixed-membership stochastic block models\n",
    "\n",
    "The aim of the work was to create better user recommendation algorithms by using mixed-memberships.\n",
    "The inference algorithm uses expectation maximization to solve the equations that describe model parameters.\n",
    "The method was more accurate than competing models when using big data.\n"
   ],
   "metadata": {
    "collapsed": false,
    "pycharm": {
     "name": "#%% md\n"
    }
   }
  }
 ],
 "metadata": {
  "kernelspec": {
   "name": "pycharm-4448ffd9",
   "language": "python",
   "display_name": "PyCharm (BAY1)"
  },
  "language_info": {
   "codemirror_mode": {
    "name": "ipython",
    "version": 2
   },
   "file_extension": ".py",
   "mimetype": "text/x-python",
   "name": "python",
   "nbconvert_exporter": "python",
   "pygments_lexer": "ipython2",
   "version": "2.7.6"
  }
 },
 "nbformat": 4,
 "nbformat_minor": 0
}