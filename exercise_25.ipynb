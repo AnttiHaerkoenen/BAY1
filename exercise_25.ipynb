{
 "cells": [
  {
   "cell_type": "markdown",
   "metadata": {
    "collapsed": true,
    "pycharm": {
     "name": "#%% md\n"
    }
   },
   "source": [
    "# Exercises 5.\n",
    "\n",
    "*Antti Härkönen*"
   ]
  },
  {
   "cell_type": "markdown",
   "source": [
    "## 1.\n",
    "\n",
    "##### 1)\n",
    "\n",
    "\n",
    "\n",
    "##### 2)\n",
    "\n",
    "$ \\bf J_f = \\begin{bmatrix} \\frac{\\partial \\bf f}{\\partial x_1} \\cdots\n",
    "\\frac{\\partial \\bf f}{\\partial x_d} \\space \\frac{\\partial \\bf f}{\\partial x_{d + 1}}\n",
    "\\cdots \\frac{\\partial \\bf f}{\\partial x_D} \\end{bmatrix} $\n",
    "\n",
    "When $ n \\leq d $, $ \\frac{\\partial \\bf f}{\\partial x_n} = \\frac{\\partial x_n}{\\partial x_n} = 1 $\n",
    "\n",
    "When $ n > d $, $ \\frac{\\partial \\bf f}{\\partial x_n} = \\frac{\\partial (x_n · exp(s(x_{1:d}) + t(x_{1:d})))}{\\partial x_n} $\n",
    "\n",
    "$ \\blacksquare $"
   ],
   "metadata": {
    "collapsed": false,
    "pycharm": {
     "name": "#%% md\n"
    }
   }
  },
  {
   "cell_type": "markdown",
   "source": [
    "## 2.\n"
   ],
   "metadata": {
    "collapsed": false,
    "pycharm": {
     "name": "#%% md\n"
    }
   }
  },
  {
   "cell_type": "markdown",
   "source": [
    "## 4.\n",
    "\n",
    "### Antonia Godoy-Loritea, Roger Guimera, Cristopher Moorec, Marta Sales-Pardo (2016): Accurate and scalable social recommendation using mixed-membership stochastic block models\n",
    "\n",
    "what was the goal of the work\n",
    "what did you understand of the model/inference algorithm\n",
    "how did the method work"
   ],
   "metadata": {
    "collapsed": false,
    "pycharm": {
     "name": "#%% md\n"
    }
   }
  }
 ],
 "metadata": {
  "kernelspec": {
   "name": "pycharm-4448ffd9",
   "language": "python",
   "display_name": "PyCharm (BAY1)"
  },
  "language_info": {
   "codemirror_mode": {
    "name": "ipython",
    "version": 2
   },
   "file_extension": ".py",
   "mimetype": "text/x-python",
   "name": "python",
   "nbconvert_exporter": "python",
   "pygments_lexer": "ipython2",
   "version": "2.7.6"
  }
 },
 "nbformat": 4,
 "nbformat_minor": 0
}