{
 "cells": [
  {
   "cell_type": "markdown",
   "metadata": {
    "pycharm": {
     "name": "#%% md\n"
    }
   },
   "source": [
    "# Exercises 2\n",
    "\n",
    "*Antti Härkönen*\n",
    "\n",
    "## 1.\n",
    "\n",
    "Start by expanding the formula for $ \\sigma_{XY} $\n",
    "$ \\sigma_{XY} = E[(X − EX)(Y − EY)] = E[XY - Y(EX) - X(EY) + (EY)(EX)] = E(XY) - E[YE(X)] - E[XE(X)] + E[(EY)(EX)]  $\n",
    "\n",
    "If X and Y are independent, then E(XY) = E(X)E(Y), therefore\n",
    "$ E(XY) - E[YE(X)] - E[XE(X)] + E[(EY)(EX)] = E(X)E(Y) - E[YE(X)] - E[XE(X)] + E[(EY)(EX)] $\n",
    "\n",
    "Since E(cX) = cE(X) when c is a constant, and expected value is a constant,\n",
    "$ E(X)E(Y) - E[YE(X)] - E[XE(X)] + E[(EY)(EX)] = E(X)E(Y) - E(X)E(Y) - E(X)E(Y) + E(X)E(Y) = 0 $ .\n",
    "\n",
    "Since $ \\rho_{XY} = \\frac{\\sigma_{XY}}{{\\sigma_{XX} \\sigma_{YY}}} $, if $ \\sigma_{XY} = 0 $ then $ \\rho_{XY} = 0 $ ."
   ]
  },
  {
   "cell_type": "markdown",
   "metadata": {
    "pycharm": {
     "name": "#%% md\n"
    }
   },
   "source": [
    "## 2.\n",
    "\n",
    "In this case the reasonable starting point is to incorporate the disease base rate in the population as prior information in Bayesian analysis.\n",
    "The probability to be determined is $ P(C|T) $, where C is \"A has cancer\" and T means \"A tests positive\".\n",
    "Using Bayes's theorem, this can be calculated like this\n",
    "$ P(C|T) = \\frac{P(C)P(T|C)}{P(T)} = \\frac{P(C)P(T|C)}{P(C)P(T|C) + P( \\neg C)P(T| \\neg C)} $\n",
    "Using the probabilities provided, the posterior probability is\n",
    "$ \\frac{0.01 \\times (1-0.05)}{0.01 \\times (1-0.05) + (1-0.01) \\times 0.1} = \\frac{0.0095}{0.0095 + 0.099} = 0.0876 $\n",
    "\n",
    "The true probability of having cancer is 8.8 %. However, this problem, as it is commonly presented, assumes that there is\n",
    "no information about the person other than the test result. In reality, things such as age, sex or home location would\n",
    "be used for more accurate prior information."
   ]
  },
  {
   "cell_type": "markdown",
   "metadata": {},
   "source": [
    "## 3.\n",
    "\n",
    "### (1)\n",
    "\n",
    "In this case $ E(g(X)) = g(E(X)) $ is true.\n",
    "\n",
    "Therefore, $ E_Y [E_X [X|Y]] = E_X [E_Y [X|Y]] = E[X] $ .\n",
    "\n",
    "### (2)\n",
    "\n",
    "$  Var[X] = E[(X-EX)^2] $\n",
    "$ = E[(Y-E(Y|X)+E(Y|X)-E(X))^2] $\n",
    "$ = E_Y[E_X [Y-E(Y|X)+E(Y|X)-E(X)]^2] $\n",
    "$ = E_Y[(E_X[Y|X] - E_X[X])^2] + E_Y[(E_X[Y|X] - E_X[X])^2] $\n",
    "$ = E_Y[Var_X[Y|X]] + Var_Y[E_X[X|Y]] $"
   ]
  },
  {
   "cell_type": "markdown",
   "metadata": {},
   "source": [
    "## 4."
   ]
  },
  {
   "cell_type": "code",
   "execution_count": null,
   "outputs": [],
   "source": [
    "import numpy as np\n",
    "import pandas as pd\n",
    "import matplotlib.pyplot as plt\n",
    "import tensorflow_probability as tfp\n",
    "tfd = tfp.distributions\n",
    "\n",
    "n = 500\n",
    "K = 2, 4, 16, 256\n",
    "sigmas = 0.25, 0.5, 1., 2., 4.\n",
    "\n",
    "for k in K:\n",
    "    for sigma_0 in sigmas:\n",
    "        alpha = np.ones(k, dtype=np.float)\n",
    "        theta = tfd.Dirichlet(alpha).sample(1).numpy()\n",
    "        z = tfd.Categorical(probs=theta).sample(n).numpy()\n",
    "\n",
    "        mu_x = tfd.Normal(np.zeros(k), np.repeat(sigma_0, k)).sample(n).numpy()\n",
    "        mu_zx = np.squeeze(np.take_along_axis(mu_x, z, 1))\n",
    "        x = np.squeeze(tfd.Normal(mu_zx, np.ones(n)).sample(1).numpy())\n",
    "\n",
    "        mu_y = tfd.Normal(np.zeros(k), np.repeat(sigma_0, k)).sample(n).numpy()\n",
    "        mu_zy = np.squeeze(np.take_along_axis(mu_y, z, 1))\n",
    "        y = np.squeeze(tfd.Normal(mu_zy, np.ones(n)).sample(1).numpy())\n",
    "\n",
    "        xy = pd.DataFrame({'x': x, 'y': y, 'k': np.squeeze(z)})\n",
    "        fig = xy.plot(x='x', y='y', c='k', kind='scatter', colormap='rainbow', colorbar=False)\n",
    "        fig.set_title(f\"Distribution of X and Y, k={k}, $ \\sigma^2_0=$ {sigma_0}\")\n",
    "        plt.show()"
   ],
   "metadata": {
    "collapsed": false,
    "pycharm": {
     "name": "#%%\n"
    }
   }
  }
 ],
 "metadata": {
  "kernelspec": {
   "display_name": "Python 3",
   "language": "python",
   "name": "python3"
  },
  "language_info": {
   "codemirror_mode": {
    "name": "ipython",
    "version": 3
   },
   "file_extension": ".py",
   "mimetype": "text/x-python",
   "name": "python",
   "nbconvert_exporter": "python",
   "pygments_lexer": "ipython3",
   "version": "3.7.0"
  }
 },
 "nbformat": 4,
 "nbformat_minor": 1
}