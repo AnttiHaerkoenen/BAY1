{
 "cells": [
  {
   "cell_type": "markdown",
   "metadata": {
    "collapsed": true,
    "pycharm": {
     "name": "#%% md\n"
    }
   },
   "source": [
    "# Exercises 2.\n",
    "\n",
    "*Antti Härkönen*\n",
    "\n",
    "## 1.\n",
    "\n",
    "Discrete KL:\n",
    "\n",
    "$$ KL(p(z) \\mid \\mid q(z)) = \\sum_{z \\in Z} p(z) log \\frac{p(z)}{q(z)} $$\n",
    "\n",
    "$$ KL(p(x, y) \\mid \\mid q(x, y)) = \\sum_{y \\in Y}\\sum_{x \\in X} p(x, y) log \\frac{p(x, y)}{q(x, y)} $$\n",
    "\n",
    "Using conditional probability:\n",
    "\n",
    "$$ KL(p(x, y) \\mid \\mid q(x, y)) $$\n",
    "\n",
    "$$ = \\sum_{y \\in Y}\\sum_{x \\in X} p(x, y) log \\frac{p(x)p(y \\mid x)}{q(x)q(y \\mid x)} $$\n",
    "\n",
    "$$ = \\sum_{y \\in Y}\\sum_{x \\in X} p(x, y) \\biggl( log \\frac{p(x)}{q(x)} + log \\frac{p(y \\mid x)}{q(y \\mid x)} \\biggr) $$\n",
    "\n",
    "$$ = \\sum_{y \\in Y}\\sum_{x \\in X} p(x, y)  log \\frac{p(x)}{q(x)} + \\sum_{y \\in Y}\\sum_{x \\in X} p(x, y) log \\frac{p(y \\mid x)}{q(y \\mid x)} $$\n",
    "\n",
    "$$ = \\sum_{x \\in X} p(x) log \\frac{p(x)}{q(x)} + \\sum_{y \\in Y}\\sum_{x \\in X} p(x, y) log \\frac{p(y \\mid x)}{q(y \\mid x)} $$\n",
    "\n",
    "$$ = KL(p(x) \\mid \\mid q(x)) + KL(p(y \\mid x) \\mid\\mid p(y \\mid x)) $$\n",
    "\n",
    "$$ \\square $$"
   ]
  },
  {
   "cell_type": "markdown",
   "source": [
    "## 2.\n",
    "\n",
    "$$ KL(p(x \\mid \\eta_1) \\mid\\mid p(x \\mid \\eta_2)) = \\int p(x \\mid \\eta_1) log \\frac{p(x \\mid \\eta_1)}{p(x \\mid \\eta_2)} dx = E_{\\eta_1} \\biggl(log \\frac{p(\\bf X \\mid \\eta_1)}{p(\\bf X \\mid \\eta_2)}\\biggr) $$\n",
    "\n",
    "Using definition of exponential family $p(x \\mid \\eta) = h(x)exp(\\eta^t T(x) - A(\\eta)) $:\n",
    "\n",
    "$$ KL(p(x \\mid \\eta_1) \\mid\\mid p(x \\mid \\eta_2)) $$\n",
    "\n",
    "$$ = E_{\\eta_1} \\biggl(log \\frac{h(\\bf X)exp(\\eta_1^t T(\\bf X) - A(\\eta_1))}{h(\\bf X)exp(\\eta_2^t T(\\bf X) - A(\\eta_2))}\\biggr) $$\n",
    "\n",
    "$$ = E_{\\eta_1} (log exp(\\eta_1^t T(\\bf X) - A(\\eta_1))-log exp(\\eta_2^t T(\\bf X) - A(\\eta_2))) $$\n",
    "\n",
    "$$ = E_{\\eta_1} (\\eta_1^t T(\\bf X) - A(\\eta_1) - \\eta_2^t T(\\bf X) + A(\\eta_2)) $$\n",
    "\n",
    "$$ = E_{\\eta_1} (\\eta_1^t T(\\bf X)) - E_{\\eta_1}(\\eta_2^t T(\\bf X)) - E_{\\eta_1}(A(\\eta_1)) + E_{\\eta_1}(A(\\eta_2)) $$\n",
    "\n",
    "$$ = E_{\\eta_1} (\\eta_1 - \\eta_2)^t E_{\\eta_1} (T(\\bf X)) - A(\\eta_1) + A(\\eta_2) $$\n",
    "\n",
    "$$ = (\\eta_1 - \\eta_2)^t \\mu_1 - A(\\eta_1) + A(\\eta_2) $$\n",
    "\n",
    "$$ \\square $$"
   ],
   "metadata": {
    "collapsed": false
   }
  },
  {
   "cell_type": "markdown",
   "source": [
    "## 3.\n",
    "\n",
    "### Novel research problems\n",
    "\n",
    "A big research area where mixed-membership models could be useful but have not been used are the analyses of social\n",
    "classes in historical data. People have been classified using discrete classes (such as working class/middle class\n",
    "or bourgeoisie/peasantry), but in reality most people have characteristics of multiple social groups depending on the\n",
    "situation. People can also support radically different political agendas depending simultaneously on their personal views, so it would\n",
    "make sense to represent individuals as mixtures of social and political profiles in Grade of Membership model. Data used might cover a variety of\n",
    "demographic, economic and political sources.\n",
    "\n",
    "This approach could be used to study many classical problems of historical sociology, such as:\n",
    "* When did industrial working class emerge?\n",
    "* Who were the supporters of various political movements, such as parties, religious movements or rebellions?\n",
    "\n",
    "### Generative process:\n",
    "\n",
    "For simplicity, assume all features are categorical.\n",
    "\n",
    "1. for each feature j:\n",
    "    1. draw profile proportion for social groups k: $\\beta_{kj} \\sim Dir(\\eta_j)$\n",
    "2. For each person i:\n",
    "    1. draw proportion $\\theta_i \\sim Dir(\\alpha)$\n",
    "    2. for each feature j of a person i:\n",
    "        1. draw \"social mixture\" $ z_{ij} \\sim Cat(\\theta_i) $\n",
    "        2. draw value of feature $ x_{ij} \\sim Cat(\\beta_{z_{kj}}) $\n",
    "\n",
    "### Plate diagram"
   ],
   "metadata": {
    "collapsed": false
   }
  },
  {
   "cell_type": "code",
   "execution_count": 11,
   "outputs": [
    {
     "name": "stderr",
     "output_type": "stream",
     "text": [
      "c:\\users\\antth\\pycharmprojects\\bay1\\venv\\lib\\site-packages\\daft.py:785: RuntimeWarning: divide by zero encountered in double_scalars\n",
      "  dyy1 = self.scale * aspect / 2.0 * np.abs(dy / dx) * (np.sign(dy) or 1.0)\n"
     ]
    },
    {
     "data": {
      "text/plain": "<matplotlib.axes._axes.Axes at 0x26b2b790370>"
     },
     "execution_count": 11,
     "metadata": {},
     "output_type": "execute_result"
    },
    {
     "data": {
      "text/plain": "<Figure size 153.071x339.685 with 1 Axes>",
      "image/png": "[encoded data removed]"
     },
     "metadata": {},
     "output_type": "display_data"
    }
   ],
   "source": [
    "import daft\n",
    "from matplotlib import rc\n",
    "\n",
    "rc(\"font\", family=\"serif\", size=16)\n",
    "scale = 1.25\n",
    "pgm = daft.PGM()\n",
    "\n",
    "pgm.add_node('alpha', r'$\\alpha$', 1, 6, fixed=True, shape='rectangle')\n",
    "pgm.add_node('theta', r'$\\theta_i$', 1, 5)\n",
    "pgm.add_node('z', r'$z_{ij}$', 1, 4)\n",
    "pgm.add_node('x', r'$x_{ij}$', 1, 3, observed=True)\n",
    "pgm.add_node('beta', r'$\\beta_{kj}$', 1, 1.75)\n",
    "pgm.add_node('eta', r'$\\eta_j$', 1, 0.75, fixed=True, offset=(0, -20), shape='rectangle')\n",
    "\n",
    "pgm.add_edge('alpha', 'theta', directed=True)\n",
    "pgm.add_edge('theta', 'z', directed=True)\n",
    "pgm.add_edge('z', 'x', directed=True)\n",
    "pgm.add_edge('beta', 'x', directed=True)\n",
    "pgm.add_edge('eta', 'beta', directed=True)\n",
    "\n",
    "pgm.add_plate([0.25, 2.5, 1.5, 2], 'J')\n",
    "pgm.add_plate([-0.25, 2.4, 2.5, 3.25], 'I')\n",
    "pgm.add_plate([0.25, 1.15, 1.5, 1], 'K')\n",
    "pgm.add_plate([-0.25, 0.25, 2.5, 2], 'J')\n",
    "\n",
    "pgm.render()"
   ],
   "metadata": {
    "collapsed": false,
    "pycharm": {
     "name": "#%%\n"
    }
   }
  },
  {
   "cell_type": "markdown",
   "source": [
    "## 4.\n",
    "\n",
    "### Thomas N. Kipf & Max Welling 2016. Variational Graph Auto-Encoders\n",
    "\n",
    "The aim of the paper is to predict edges in a network based on the features of the nodes. The algorithm creates\n",
    "models using graph convolutional network, and then uses variational auto-encoders to train the model.\n",
    "Rectified linear units are used in inference instead of sigmoids. The priors for the variational auto-encoder were\n",
    "normally distributed, but this was problematic. The algorith worked better than the ordinary graph auto-encoder.\n"
   ],
   "metadata": {
    "collapsed": false,
    "pycharm": {
     "name": "#%% md\n"
    }
   }
  }
 ],
 "metadata": {
  "kernelspec": {
   "name": "pycharm-4448ffd9",
   "language": "python",
   "display_name": "PyCharm (BAY1)"
  },
  "language_info": {
   "codemirror_mode": {
    "name": "ipython",
    "version": 2
   },
   "file_extension": ".py",
   "mimetype": "text/x-python",
   "name": "python",
   "nbconvert_exporter": "python",
   "pygments_lexer": "ipython2",
   "version": "2.7.6"
  }
 },
 "nbformat": 4,
 "nbformat_minor": 0
}