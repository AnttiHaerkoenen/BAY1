{
 "cells": [
  {
   "cell_type": "markdown",
   "metadata": {
    "collapsed": true,
    "pycharm": {
     "name": "#%% md\n"
    }
   },
   "source": [
    "# Exercises 4\n",
    "\n",
    "*Antti Härkönen*\n",
    "\n",
    "## 1.\n",
    "\n",
    "The Monty Hall problem can be interpreted as a collider as following:\n",
    "\n",
    "A = the contestant's first pick\n",
    "B = the door with the car\n",
    "C = the door opened by the host\n",
    "\n",
    "A and B are independent, but C is dependent on both A and B, since the host will not open the door with car behind it\n",
    "or the door selected first.\n",
    "\n",
    "The contestant observes both A and C, but B is a hidden variable that must be determined."
   ]
  },
  {
   "cell_type": "code",
   "execution_count": 3,
   "metadata": {
    "pycharm": {
     "name": "#%%\n"
    }
   },
   "outputs": [
    {
     "data": {
      "text/plain": "<matplotlib.axes._axes.Axes at 0x1f6454bc730>"
     },
     "execution_count": 3,
     "metadata": {},
     "output_type": "execute_result"
    },
    {
     "data": {
      "text/plain": "<Figure size 160.157x103.465 with 1 Axes>",
      "image/png": "[encoded data removed]"
     },
     "metadata": {},
     "output_type": "display_data"
    }
   ],
   "source": [
    "import daft\n",
    "from matplotlib import rc\n",
    "\n",
    "rc(\"font\", family=\"serif\", size=16)\n",
    "scale = 1.25\n",
    "pgm = daft.PGM()\n",
    "\n",
    "pgm.add_node('A', 'A', 1, 1, scale=scale, observed=True)\n",
    "pgm.add_node('B', 'B', 3, 1, scale=scale)\n",
    "pgm.add_node('C', 'C', 2, 0, scale=scale, observed=True)\n",
    "\n",
    "pgm.add_edge('A', 'C', directed=True)\n",
    "pgm.add_edge('B', 'C', directed=True)\n",
    "\n",
    "pgm.render()"
   ]
  },
  {
   "cell_type": "markdown",
   "metadata": {
    "pycharm": {
     "name": "#%% md\n"
    }
   },
   "source": [
    "## 2."
   ]
  },
  {
   "cell_type": "markdown",
   "metadata": {
    "pycharm": {
     "name": "#%% md\n"
    }
   },
   "source": [
    "## 3.\n",
    "\n",
    "$ E[\\bf z] = \\bf R^{-1} \\begin{pmatrix} \\bf \\Lambda \\mu - \\bf A' \\bf L b \\\\ \\bf Lb \\end{pmatrix} $\n",
    "\n",
    "$ = \\begin{pmatrix} \\bf\\Lambda^{-1} & \\bf\\Lambda^{-1}\\bf A' \\\\ \\bf A \\bf\\Lambda^{-1} & \\bf L^{-1} + \\bf A \\bf\\Lambda^{-1}\\bf A' \\end{pmatrix} \\begin{pmatrix} \\bf \\Lambda \\mu - \\bf A' \\bf L b \\\\ \\bf Lb \\end{pmatrix} $\n",
    "\n",
    "$ = \\begin{pmatrix} \\bf\\Lambda^{-1}(\\bf \\Lambda \\mu - \\bf A' \\bf L b) + \\bf\\Lambda^{-1}\\bf A' \\bf L \\bf b \\\\ \\bf A \\bf\\Lambda^{-1}(\\bf \\Lambda \\mu - \\bf A' \\bf L b) + (\\bf L^{-1} + \\bf A \\bf\\Lambda^{-1}\\bf A') \\bf L \\bf b \\end{pmatrix} $\n",
    "\n",
    "$ = \\begin{pmatrix} \\bf\\Lambda^{-1}\\bf \\Lambda \\mu - \\bf\\Lambda^{-1}\\bf A' \\bf L b + \\bf\\Lambda^{-1}\\bf A' \\bf L \\bf b \\\\ \\bf A \\bf\\Lambda^{-1}\\bf \\Lambda \\mu - \\bf A \\bf\\Lambda^{-1} \\bf A' \\bf L b + \\bf L^{-1} \\bf L \\bf b + \\bf A \\bf\\Lambda^{-1}\\bf A' \\bf L \\bf b \\end{pmatrix} $\n",
    "\n",
    "$ = \\begin{pmatrix} \\bf\\Lambda^{-1}\\bf \\Lambda \\mu \\\\ \\bf A \\bf\\Lambda^{-1}\\bf \\Lambda \\mu + \\bf L^{-1} \\bf L \\bf b \\end{pmatrix} $\n",
    "\n",
    "$ = \\begin{pmatrix} \\bf \\mu \\\\ \\bf A \\bf \\mu + \\bf b \\end{pmatrix} $\n",
    "\n",
    "This means that $\\mu_x$ and $\\mu_y$ are linearly dependant."
   ]
  },
  {
   "cell_type": "markdown",
   "metadata": {},
   "source": [
    "## 4."
   ]
  },
  {
   "cell_type": "code",
   "execution_count": 3,
   "metadata": {
    "pycharm": {
     "name": "#%%"
    }
   },
   "outputs": [],
   "source": []
  }
 ],
 "metadata": {
  "kernelspec": {
   "display_name": "Python 3",
   "language": "python",
   "name": "python3"
  },
  "language_info": {
   "codemirror_mode": {
    "name": "ipython",
    "version": 3
   },
   "file_extension": ".py",
   "mimetype": "text/x-python",
   "name": "python",
   "nbconvert_exporter": "python",
   "pygments_lexer": "ipython3",
   "version": "3.8.5"
  }
 },
 "nbformat": 4,
 "nbformat_minor": 1
}